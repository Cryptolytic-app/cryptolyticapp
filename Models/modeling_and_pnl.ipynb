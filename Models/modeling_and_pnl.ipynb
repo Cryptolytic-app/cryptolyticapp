{
 "cells": [
  {
   "cell_type": "markdown",
   "metadata": {},
   "source": [
    "# Imports"
   ]
  },
  {
   "cell_type": "code",
   "execution_count": 183,
   "metadata": {},
   "outputs": [],
   "source": [
    "import glob\n",
    "import os\n",
    "import pickle\n",
    "import warnings\n",
    "warnings.filterwarnings(\"ignore\")\n",
    "\n",
    "import pandas as pd\n",
    "import numpy as np\n",
    "import datetime as dt\n",
    "\n",
    "from ta import add_all_ta_features\n",
    "\n",
    "from sklearn.ensemble import RandomForestClassifier\n",
    "from sklearn.linear_model import LogisticRegression\n",
    "from sklearn.model_selection import train_test_split\n",
    "from sklearn.metrics import accuracy_score"
   ]
  },
  {
   "cell_type": "markdown",
   "metadata": {},
   "source": [
    "### Get all csv filenames into a variable"
   ]
  },
  {
   "cell_type": "code",
   "execution_count": 156,
   "metadata": {},
   "outputs": [
    {
     "data": {
      "text/plain": [
       "9"
      ]
     },
     "execution_count": 156,
     "metadata": {},
     "output_type": "execute_result"
    }
   ],
   "source": [
    "csv_filenames = glob.glob('data/*.csv') # modify to your filepath for data\n",
    "len(csv_filenames)"
   ]
  },
  {
   "cell_type": "markdown",
   "metadata": {},
   "source": [
    "## Functions"
   ]
  },
  {
   "cell_type": "markdown",
   "metadata": {},
   "source": [
    "#### Feature Engineering"
   ]
  },
  {
   "cell_type": "code",
   "execution_count": 158,
   "metadata": {},
   "outputs": [],
   "source": [
    "def feature_engineering(df):\n",
    "    \"\"\"Takes in a dataframe of 5 minute cryptocurrency trading data\n",
    "        and returns a new dataframe with 1 hour data and new technical analysis features:\n",
    "    \"\"\"\n",
    "    \n",
    "    # Add a datetime column to df\n",
    "    df['date'] = pd.to_datetime(df['closing_time'], unit='s')\n",
    "     \n",
    "    # Convert df to one hour candles\n",
    "    period = '60T'\n",
    "    df = change_ohlcv_time(df, period)\n",
    "    \n",
    "    # Add feature to indicate user inactivity.\n",
    "    df['nan_ohlc'] = df['close'].apply(lambda x: 1 if pd.isnull(x) else 0)\n",
    "    \n",
    "    # Fill in missing values using fill function.\n",
    "    df = fill_nan(df)\n",
    "    \n",
    "    # Reset index.\n",
    "    df = df.reset_index()\n",
    "    \n",
    "    # Create additional date features.\n",
    "    df['year'] = df['date'].dt.year\n",
    "    df['month'] = df['date'].dt.month\n",
    "    df['day'] = df['date'].dt.day\n",
    "    \n",
    "    # Add technical analysis features.\n",
    "    df = add_all_ta_features(df, \"open\", \"high\", \"low\", \"close\", \"base_volume\")\n",
    "      \n",
    "    # Replace infinite values with NaNs.\n",
    "    df = df.replace([np.inf, -np.inf], np.nan)\n",
    "    \n",
    "    # Drop any features whose mean of missing values is greater than 20%.\n",
    "    df = df[df.columns[df.isnull().mean() < .2]]\n",
    "    \n",
    "    # Replace remaining NaN values with the mean of each respective column and reset index.\n",
    "    df = df.apply(lambda x: x.fillna(x.mean()),axis=0)\n",
    "    \n",
    "    # Create a feature for close price difference \n",
    "    df['close_diff'] = (df['close'] - df['close'].shift(1))/df['close'].shift(1)    \n",
    "    \n",
    "    # Function to create target\n",
    "    def price_increase(x):\n",
    "        if (x-(.70/100)) > 0:\n",
    "            return True\n",
    "        else:\n",
    "            return False\n",
    "    \n",
    "    # Create target\n",
    "    target = df['close_diff'].apply(price_increase)\n",
    "    \n",
    "    # To make the prediction before it happens, put target on the next observation\n",
    "    target = target[1:].values\n",
    "    df = df[:-1]\n",
    "    \n",
    "    # Create target column\n",
    "    df['target'] = target\n",
    "    \n",
    "    # Remove first row of dataframe bc it has a null target\n",
    "    df = df[1:]\n",
    "    \n",
    "    # Pick features\n",
    "    features = ['open', 'high', 'low', 'close', 'base_volume', 'nan_ohlc', \n",
    "                'year', 'month', 'day', 'volume_adi', 'volume_obv', 'volume_cmf', \n",
    "                'volume_fi', 'volume_em', 'volume_vpt', 'volume_nvi', 'volatility_atr', \n",
    "                'volatility_bbh', 'volatility_bbl', 'volatility_bbm', 'volatility_bbhi', \n",
    "                'volatility_bbli', 'volatility_kcc', 'volatility_kch', 'volatility_kcl', \n",
    "                'volatility_kchi', 'volatility_kcli', 'volatility_dch', 'volatility_dcl', \n",
    "                'volatility_dchi', 'volatility_dcli', 'trend_macd', 'trend_macd_signal', \n",
    "                'trend_macd_diff', 'trend_ema_fast', 'trend_ema_slow', \n",
    "                'trend_adx_pos', 'trend_adx_neg', 'trend_vortex_ind_pos', \n",
    "                'trend_vortex_ind_neg', 'trend_vortex_diff', 'trend_trix', \n",
    "                'trend_mass_index', 'trend_cci', 'trend_dpo', 'trend_kst', \n",
    "                'trend_kst_sig', 'trend_kst_diff', 'trend_ichimoku_a', \n",
    "                'trend_ichimoku_b', 'trend_visual_ichimoku_a', 'trend_visual_ichimoku_b', \n",
    "                'trend_aroon_up', 'trend_aroon_down', 'trend_aroon_ind', 'momentum_rsi', \n",
    "                'momentum_mfi', 'momentum_tsi', 'momentum_uo', 'momentum_stoch', \n",
    "                'momentum_stoch_signal', 'momentum_wr', 'momentum_ao',  \n",
    "                'others_dr', 'others_dlr', 'others_cr', 'close_diff', 'date', 'target']\n",
    "    df = df[features]\n",
    "    \n",
    "    return df"
   ]
  },
  {
   "cell_type": "markdown",
   "metadata": {},
   "source": [
    "#### Change OHLCV time period"
   ]
  },
  {
   "cell_type": "code",
   "execution_count": 159,
   "metadata": {},
   "outputs": [],
   "source": [
    "def change_ohlcv_time(df, period):\n",
    "    \"\"\" Changes the time period on cryptocurrency ohlcv data.\n",
    "        Period is a string denoted by 'time_in_minutesT'(ex: '1T', '5T', '60T').\"\"\"\n",
    "\n",
    "    # Set date as the index. This is needed for the function to run\n",
    "    df = df.set_index(['date'])\n",
    "\n",
    "    # Aggregation function\n",
    "    ohlc_dict = {                                                                                                             \n",
    "    'open':'first',                                                                                                    \n",
    "    'high':'max',                                                                                                       \n",
    "    'low':'min',                                                                                                        \n",
    "    'close': 'last',                                                                                                    \n",
    "    'base_volume': 'sum'\n",
    "    }\n",
    "\n",
    "    # Apply resampling.\n",
    "    df = df.resample(period, how=ohlc_dict, closed='left', label='left')\n",
    "    \n",
    "    return df"
   ]
  },
  {
   "cell_type": "markdown",
   "metadata": {},
   "source": [
    "#### Fill NaNs"
   ]
  },
  {
   "cell_type": "code",
   "execution_count": 160,
   "metadata": {},
   "outputs": [],
   "source": [
    "def fill_nan(df):\n",
    "  \n",
    "    '''Iterates through a dataframe and fills NaNs with appropriate open, high, low, close values.'''\n",
    "\n",
    "    # Forward fill close column.\n",
    "    df['close'] = df['close'].ffill()\n",
    "\n",
    "    # Backward fill the open, high, low rows with the close value.\n",
    "    df = df.bfill(axis=1)\n",
    "\n",
    "    return df"
   ]
  },
  {
   "cell_type": "markdown",
   "metadata": {},
   "source": [
    "### Modeling Pipeline"
   ]
  },
  {
   "cell_type": "code",
   "execution_count": 88,
   "metadata": {},
   "outputs": [
    {
     "name": "stdout",
     "output_type": "stream",
     "text": [
      "bitfinex_ltc_usd\n"
     ]
    },
    {
     "name": "stderr",
     "output_type": "stream",
     "text": [
      "//anaconda3/envs/cryptolytic/lib/python3.7/site-packages/ipykernel_launcher.py:18: FutureWarning: how in .resample() is deprecated\n",
      "the new syntax is .resample(...)..apply(<func>)\n"
     ]
    },
    {
     "name": "stdout",
     "output_type": "stream",
     "text": [
      "train and test shape (bitfinex_ltc_usd): (36379, 69) (5809, 69)\n",
      "['open', 'high', 'low', 'close', 'base_volume', 'nan_ohlc', 'year', 'month', 'day', 'volume_adi', 'volume_obv', 'volume_cmf', 'volume_fi', 'volume_em', 'volume_vpt', 'volume_nvi', 'volatility_atr', 'volatility_bbh', 'volatility_bbl', 'volatility_bbm', 'volatility_bbhi', 'volatility_bbli', 'volatility_kcc', 'volatility_kch', 'volatility_kcl', 'volatility_kchi', 'volatility_kcli', 'volatility_dch', 'volatility_dcl', 'volatility_dchi', 'volatility_dcli', 'trend_macd', 'trend_macd_signal', 'trend_macd_diff', 'trend_ema_fast', 'trend_ema_slow', 'trend_adx_pos', 'trend_adx_neg', 'trend_vortex_ind_pos', 'trend_vortex_ind_neg', 'trend_vortex_diff', 'trend_trix', 'trend_mass_index', 'trend_cci', 'trend_dpo', 'trend_kst', 'trend_kst_sig', 'trend_kst_diff', 'trend_ichimoku_a', 'trend_ichimoku_b', 'trend_visual_ichimoku_a', 'trend_visual_ichimoku_b', 'trend_aroon_up', 'trend_aroon_down', 'trend_aroon_ind', 'momentum_rsi', 'momentum_mfi', 'momentum_tsi', 'momentum_uo', 'momentum_stoch', 'momentum_stoch_signal', 'momentum_wr', 'momentum_ao', 'others_dr', 'others_dlr', 'others_cr', 'close_diff']\n",
      "model fitted\n",
      "train accuracy: 1.0\n",
      "predictions made\n",
      "test accuracy: 0.8376656911688759\n",
      "RandomForestClassifier(bootstrap=True, class_weight=None, criterion='gini',\n",
      "                       max_depth=50, max_features='auto', max_leaf_nodes=None,\n",
      "                       min_impurity_decrease=0.0, min_impurity_split=None,\n",
      "                       min_samples_leaf=1, min_samples_split=2,\n",
      "                       min_weight_fraction_leaf=0.0, n_estimators=100,\n",
      "                       n_jobs=-1, oob_score=False, random_state=42, verbose=0,\n",
      "                       warm_start=False) pickle saved!\n",
      "bitfinex_btc_usd\n"
     ]
    },
    {
     "name": "stderr",
     "output_type": "stream",
     "text": [
      "//anaconda3/envs/cryptolytic/lib/python3.7/site-packages/ipykernel_launcher.py:18: FutureWarning: how in .resample() is deprecated\n",
      "the new syntax is .resample(...)..apply(<func>)\n",
      "//anaconda3/envs/cryptolytic/lib/python3.7/site-packages/ta/trend.py:170: RuntimeWarning: invalid value encountered in double_scalars\n",
      "  dip[i] = 100 * (dip_mio[i]/trs[i])\n",
      "//anaconda3/envs/cryptolytic/lib/python3.7/site-packages/ta/trend.py:174: RuntimeWarning: invalid value encountered in double_scalars\n",
      "  din[i] = 100 * (din_mio[i]/trs[i])\n"
     ]
    },
    {
     "name": "stdout",
     "output_type": "stream",
     "text": [
      "train and test shape (bitfinex_btc_usd): (36236, 69) (5809, 69)\n",
      "['open', 'high', 'low', 'close', 'base_volume', 'nan_ohlc', 'year', 'month', 'day', 'volume_adi', 'volume_obv', 'volume_cmf', 'volume_fi', 'volume_em', 'volume_vpt', 'volume_nvi', 'volatility_atr', 'volatility_bbh', 'volatility_bbl', 'volatility_bbm', 'volatility_bbhi', 'volatility_bbli', 'volatility_kcc', 'volatility_kch', 'volatility_kcl', 'volatility_kchi', 'volatility_kcli', 'volatility_dch', 'volatility_dcl', 'volatility_dchi', 'volatility_dcli', 'trend_macd', 'trend_macd_signal', 'trend_macd_diff', 'trend_ema_fast', 'trend_ema_slow', 'trend_adx_pos', 'trend_adx_neg', 'trend_vortex_ind_pos', 'trend_vortex_ind_neg', 'trend_vortex_diff', 'trend_trix', 'trend_mass_index', 'trend_cci', 'trend_dpo', 'trend_kst', 'trend_kst_sig', 'trend_kst_diff', 'trend_ichimoku_a', 'trend_ichimoku_b', 'trend_visual_ichimoku_a', 'trend_visual_ichimoku_b', 'trend_aroon_up', 'trend_aroon_down', 'trend_aroon_ind', 'momentum_rsi', 'momentum_mfi', 'momentum_tsi', 'momentum_uo', 'momentum_stoch', 'momentum_stoch_signal', 'momentum_wr', 'momentum_ao', 'others_dr', 'others_dlr', 'others_cr', 'close_diff']\n",
      "model fitted\n",
      "train accuracy: 0.9999448062700077\n",
      "predictions made\n",
      "test accuracy: 0.8987777586503701\n",
      "RandomForestClassifier(bootstrap=True, class_weight=None, criterion='gini',\n",
      "                       max_depth=50, max_features='auto', max_leaf_nodes=None,\n",
      "                       min_impurity_decrease=0.0, min_impurity_split=None,\n",
      "                       min_samples_leaf=1, min_samples_split=2,\n",
      "                       min_weight_fraction_leaf=0.0, n_estimators=100,\n",
      "                       n_jobs=-1, oob_score=False, random_state=42, verbose=0,\n",
      "                       warm_start=False) pickle saved!\n",
      "coinbase_pro_eth_usd\n"
     ]
    },
    {
     "name": "stderr",
     "output_type": "stream",
     "text": [
      "//anaconda3/envs/cryptolytic/lib/python3.7/site-packages/ipykernel_launcher.py:18: FutureWarning: how in .resample() is deprecated\n",
      "the new syntax is .resample(...)..apply(<func>)\n",
      "//anaconda3/envs/cryptolytic/lib/python3.7/site-packages/ta/trend.py:170: RuntimeWarning: invalid value encountered in double_scalars\n",
      "  dip[i] = 100 * (dip_mio[i]/trs[i])\n",
      "//anaconda3/envs/cryptolytic/lib/python3.7/site-packages/ta/trend.py:174: RuntimeWarning: invalid value encountered in double_scalars\n",
      "  din[i] = 100 * (din_mio[i]/trs[i])\n",
      "//anaconda3/envs/cryptolytic/lib/python3.7/site-packages/ta/trend.py:176: RuntimeWarning: divide by zero encountered in true_divide\n",
      "  dx = 100 * np.abs((dip - din) / (dip + din))\n",
      "//anaconda3/envs/cryptolytic/lib/python3.7/site-packages/ta/trend.py:176: RuntimeWarning: invalid value encountered in true_divide\n",
      "  dx = 100 * np.abs((dip - din) / (dip + din))\n"
     ]
    },
    {
     "name": "stdout",
     "output_type": "stream",
     "text": [
      "train and test shape (coinbase_pro_eth_usd): (20781, 69) (5809, 69)\n",
      "['open', 'high', 'low', 'close', 'base_volume', 'nan_ohlc', 'year', 'month', 'day', 'volume_adi', 'volume_obv', 'volume_cmf', 'volume_fi', 'volume_em', 'volume_vpt', 'volume_nvi', 'volatility_atr', 'volatility_bbh', 'volatility_bbl', 'volatility_bbm', 'volatility_bbhi', 'volatility_bbli', 'volatility_kcc', 'volatility_kch', 'volatility_kcl', 'volatility_kchi', 'volatility_kcli', 'volatility_dch', 'volatility_dcl', 'volatility_dchi', 'volatility_dcli', 'trend_macd', 'trend_macd_signal', 'trend_macd_diff', 'trend_ema_fast', 'trend_ema_slow', 'trend_adx_pos', 'trend_adx_neg', 'trend_vortex_ind_pos', 'trend_vortex_ind_neg', 'trend_vortex_diff', 'trend_trix', 'trend_mass_index', 'trend_cci', 'trend_dpo', 'trend_kst', 'trend_kst_sig', 'trend_kst_diff', 'trend_ichimoku_a', 'trend_ichimoku_b', 'trend_visual_ichimoku_a', 'trend_visual_ichimoku_b', 'trend_aroon_up', 'trend_aroon_down', 'trend_aroon_ind', 'momentum_rsi', 'momentum_mfi', 'momentum_tsi', 'momentum_uo', 'momentum_stoch', 'momentum_stoch_signal', 'momentum_wr', 'momentum_ao', 'others_dr', 'others_dlr', 'others_cr', 'close_diff']\n",
      "model fitted\n",
      "train accuracy: 1.0\n",
      "predictions made\n",
      "test accuracy: 0.8665863315544844\n",
      "RandomForestClassifier(bootstrap=True, class_weight=None, criterion='gini',\n",
      "                       max_depth=50, max_features='auto', max_leaf_nodes=None,\n",
      "                       min_impurity_decrease=0.0, min_impurity_split=None,\n",
      "                       min_samples_leaf=1, min_samples_split=2,\n",
      "                       min_weight_fraction_leaf=0.0, n_estimators=100,\n",
      "                       n_jobs=-1, oob_score=False, random_state=42, verbose=0,\n",
      "                       warm_start=False) pickle saved!\n",
      "coinbase_pro_ltc_usd\n"
     ]
    },
    {
     "name": "stderr",
     "output_type": "stream",
     "text": [
      "//anaconda3/envs/cryptolytic/lib/python3.7/site-packages/ipykernel_launcher.py:18: FutureWarning: how in .resample() is deprecated\n",
      "the new syntax is .resample(...)..apply(<func>)\n",
      "//anaconda3/envs/cryptolytic/lib/python3.7/site-packages/ta/trend.py:170: RuntimeWarning: invalid value encountered in double_scalars\n",
      "  dip[i] = 100 * (dip_mio[i]/trs[i])\n",
      "//anaconda3/envs/cryptolytic/lib/python3.7/site-packages/ta/trend.py:174: RuntimeWarning: invalid value encountered in double_scalars\n",
      "  din[i] = 100 * (din_mio[i]/trs[i])\n",
      "//anaconda3/envs/cryptolytic/lib/python3.7/site-packages/ta/trend.py:245: RuntimeWarning: invalid value encountered in double_scalars\n",
      "  dip[i+n] = 100 * (dip_mio[i]/trs[i])\n",
      "//anaconda3/envs/cryptolytic/lib/python3.7/site-packages/ta/trend.py:307: RuntimeWarning: invalid value encountered in double_scalars\n",
      "  din[i+n] = 100 * (din_mio[i]/float(trs[i]))\n"
     ]
    },
    {
     "name": "stdout",
     "output_type": "stream",
     "text": [
      "train and test shape (coinbase_pro_ltc_usd): (18593, 69) (5809, 69)\n",
      "['open', 'high', 'low', 'close', 'base_volume', 'nan_ohlc', 'year', 'month', 'day', 'volume_adi', 'volume_obv', 'volume_cmf', 'volume_fi', 'volume_em', 'volume_vpt', 'volume_nvi', 'volatility_atr', 'volatility_bbh', 'volatility_bbl', 'volatility_bbm', 'volatility_bbhi', 'volatility_bbli', 'volatility_kcc', 'volatility_kch', 'volatility_kcl', 'volatility_kchi', 'volatility_kcli', 'volatility_dch', 'volatility_dcl', 'volatility_dchi', 'volatility_dcli', 'trend_macd', 'trend_macd_signal', 'trend_macd_diff', 'trend_ema_fast', 'trend_ema_slow', 'trend_adx_pos', 'trend_adx_neg', 'trend_vortex_ind_pos', 'trend_vortex_ind_neg', 'trend_vortex_diff', 'trend_trix', 'trend_mass_index', 'trend_cci', 'trend_dpo', 'trend_kst', 'trend_kst_sig', 'trend_kst_diff', 'trend_ichimoku_a', 'trend_ichimoku_b', 'trend_visual_ichimoku_a', 'trend_visual_ichimoku_b', 'trend_aroon_up', 'trend_aroon_down', 'trend_aroon_ind', 'momentum_rsi', 'momentum_mfi', 'momentum_tsi', 'momentum_uo', 'momentum_stoch', 'momentum_stoch_signal', 'momentum_wr', 'momentum_ao', 'others_dr', 'others_dlr', 'others_cr', 'close_diff']\n",
      "model fitted\n",
      "train accuracy: 1.0\n",
      "predictions made\n",
      "test accuracy: 0.8325012911000172\n",
      "RandomForestClassifier(bootstrap=True, class_weight=None, criterion='gini',\n",
      "                       max_depth=50, max_features='auto', max_leaf_nodes=None,\n",
      "                       min_impurity_decrease=0.0, min_impurity_split=None,\n",
      "                       min_samples_leaf=1, min_samples_split=2,\n",
      "                       min_weight_fraction_leaf=0.0, n_estimators=100,\n",
      "                       n_jobs=-1, oob_score=False, random_state=42, verbose=0,\n",
      "                       warm_start=False) pickle saved!\n",
      "hitbtc_eth_usdt\n"
     ]
    },
    {
     "name": "stderr",
     "output_type": "stream",
     "text": [
      "//anaconda3/envs/cryptolytic/lib/python3.7/site-packages/ipykernel_launcher.py:18: FutureWarning: how in .resample() is deprecated\n",
      "the new syntax is .resample(...)..apply(<func>)\n",
      "//anaconda3/envs/cryptolytic/lib/python3.7/site-packages/ta/trend.py:170: RuntimeWarning: invalid value encountered in double_scalars\n",
      "  dip[i] = 100 * (dip_mio[i]/trs[i])\n",
      "//anaconda3/envs/cryptolytic/lib/python3.7/site-packages/ta/trend.py:174: RuntimeWarning: invalid value encountered in double_scalars\n",
      "  din[i] = 100 * (din_mio[i]/trs[i])\n"
     ]
    },
    {
     "name": "stdout",
     "output_type": "stream",
     "text": [
      "train and test shape (hitbtc_eth_usdt): (12318, 69) (5809, 69)\n",
      "['open', 'high', 'low', 'close', 'base_volume', 'nan_ohlc', 'year', 'month', 'day', 'volume_adi', 'volume_obv', 'volume_cmf', 'volume_fi', 'volume_em', 'volume_vpt', 'volume_nvi', 'volatility_atr', 'volatility_bbh', 'volatility_bbl', 'volatility_bbm', 'volatility_bbhi', 'volatility_bbli', 'volatility_kcc', 'volatility_kch', 'volatility_kcl', 'volatility_kchi', 'volatility_kcli', 'volatility_dch', 'volatility_dcl', 'volatility_dchi', 'volatility_dcli', 'trend_macd', 'trend_macd_signal', 'trend_macd_diff', 'trend_ema_fast', 'trend_ema_slow', 'trend_adx_pos', 'trend_adx_neg', 'trend_vortex_ind_pos', 'trend_vortex_ind_neg', 'trend_vortex_diff', 'trend_trix', 'trend_mass_index', 'trend_cci', 'trend_dpo', 'trend_kst', 'trend_kst_sig', 'trend_kst_diff', 'trend_ichimoku_a', 'trend_ichimoku_b', 'trend_visual_ichimoku_a', 'trend_visual_ichimoku_b', 'trend_aroon_up', 'trend_aroon_down', 'trend_aroon_ind', 'momentum_rsi', 'momentum_mfi', 'momentum_tsi', 'momentum_uo', 'momentum_stoch', 'momentum_stoch_signal', 'momentum_wr', 'momentum_ao', 'others_dr', 'others_dlr', 'others_cr', 'close_diff']\n",
      "model fitted\n",
      "train accuracy: 0.9999188179899334\n",
      "predictions made\n",
      "test accuracy: 0.8431743845756584\n",
      "RandomForestClassifier(bootstrap=True, class_weight=None, criterion='gini',\n",
      "                       max_depth=50, max_features='auto', max_leaf_nodes=None,\n",
      "                       min_impurity_decrease=0.0, min_impurity_split=None,\n",
      "                       min_samples_leaf=1, min_samples_split=2,\n",
      "                       min_weight_fraction_leaf=0.0, n_estimators=100,\n",
      "                       n_jobs=-1, oob_score=False, random_state=42, verbose=0,\n",
      "                       warm_start=False) pickle saved!\n",
      "bitfinex_eth_usd\n"
     ]
    },
    {
     "name": "stderr",
     "output_type": "stream",
     "text": [
      "//anaconda3/envs/cryptolytic/lib/python3.7/site-packages/ipykernel_launcher.py:18: FutureWarning: how in .resample() is deprecated\n",
      "the new syntax is .resample(...)..apply(<func>)\n",
      "//anaconda3/envs/cryptolytic/lib/python3.7/site-packages/ta/trend.py:170: RuntimeWarning: invalid value encountered in double_scalars\n",
      "  dip[i] = 100 * (dip_mio[i]/trs[i])\n",
      "//anaconda3/envs/cryptolytic/lib/python3.7/site-packages/ta/trend.py:174: RuntimeWarning: invalid value encountered in double_scalars\n",
      "  din[i] = 100 * (din_mio[i]/trs[i])\n"
     ]
    },
    {
     "name": "stdout",
     "output_type": "stream",
     "text": [
      "train and test shape (bitfinex_eth_usd): (22445, 69) (5809, 69)\n",
      "['open', 'high', 'low', 'close', 'base_volume', 'nan_ohlc', 'year', 'month', 'day', 'volume_adi', 'volume_obv', 'volume_cmf', 'volume_fi', 'volume_em', 'volume_vpt', 'volume_nvi', 'volatility_atr', 'volatility_bbh', 'volatility_bbl', 'volatility_bbm', 'volatility_bbhi', 'volatility_bbli', 'volatility_kcc', 'volatility_kch', 'volatility_kcl', 'volatility_kchi', 'volatility_kcli', 'volatility_dch', 'volatility_dcl', 'volatility_dchi', 'volatility_dcli', 'trend_macd', 'trend_macd_signal', 'trend_macd_diff', 'trend_ema_fast', 'trend_ema_slow', 'trend_adx_pos', 'trend_adx_neg', 'trend_vortex_ind_pos', 'trend_vortex_ind_neg', 'trend_vortex_diff', 'trend_trix', 'trend_mass_index', 'trend_cci', 'trend_dpo', 'trend_kst', 'trend_kst_sig', 'trend_kst_diff', 'trend_ichimoku_a', 'trend_ichimoku_b', 'trend_visual_ichimoku_a', 'trend_visual_ichimoku_b', 'trend_aroon_up', 'trend_aroon_down', 'trend_aroon_ind', 'momentum_rsi', 'momentum_mfi', 'momentum_tsi', 'momentum_uo', 'momentum_stoch', 'momentum_stoch_signal', 'momentum_wr', 'momentum_ao', 'others_dr', 'others_dlr', 'others_cr', 'close_diff']\n",
      "model fitted\n",
      "train accuracy: 1.0\n",
      "predictions made\n",
      "test accuracy: 0.8671027715613703\n",
      "RandomForestClassifier(bootstrap=True, class_weight=None, criterion='gini',\n",
      "                       max_depth=50, max_features='auto', max_leaf_nodes=None,\n",
      "                       min_impurity_decrease=0.0, min_impurity_split=None,\n",
      "                       min_samples_leaf=1, min_samples_split=2,\n",
      "                       min_weight_fraction_leaf=0.0, n_estimators=100,\n",
      "                       n_jobs=-1, oob_score=False, random_state=42, verbose=0,\n",
      "                       warm_start=False) pickle saved!\n",
      "coinbase_pro_btc_usd\n"
     ]
    },
    {
     "name": "stderr",
     "output_type": "stream",
     "text": [
      "//anaconda3/envs/cryptolytic/lib/python3.7/site-packages/ipykernel_launcher.py:18: FutureWarning: how in .resample() is deprecated\n",
      "the new syntax is .resample(...)..apply(<func>)\n",
      "//anaconda3/envs/cryptolytic/lib/python3.7/site-packages/ta/trend.py:170: RuntimeWarning: invalid value encountered in double_scalars\n",
      "  dip[i] = 100 * (dip_mio[i]/trs[i])\n",
      "//anaconda3/envs/cryptolytic/lib/python3.7/site-packages/ta/trend.py:174: RuntimeWarning: invalid value encountered in double_scalars\n",
      "  din[i] = 100 * (din_mio[i]/trs[i])\n"
     ]
    },
    {
     "name": "stdout",
     "output_type": "stream",
     "text": [
      "train and test shape (coinbase_pro_btc_usd): (28032, 69) (5809, 69)\n",
      "['open', 'high', 'low', 'close', 'base_volume', 'nan_ohlc', 'year', 'month', 'day', 'volume_adi', 'volume_obv', 'volume_cmf', 'volume_fi', 'volume_em', 'volume_vpt', 'volume_nvi', 'volatility_atr', 'volatility_bbh', 'volatility_bbl', 'volatility_bbm', 'volatility_bbhi', 'volatility_bbli', 'volatility_kcc', 'volatility_kch', 'volatility_kcl', 'volatility_kchi', 'volatility_kcli', 'volatility_dch', 'volatility_dcl', 'volatility_dchi', 'volatility_dcli', 'trend_macd', 'trend_macd_signal', 'trend_macd_diff', 'trend_ema_fast', 'trend_ema_slow', 'trend_adx_pos', 'trend_adx_neg', 'trend_vortex_ind_pos', 'trend_vortex_ind_neg', 'trend_vortex_diff', 'trend_trix', 'trend_mass_index', 'trend_cci', 'trend_dpo', 'trend_kst', 'trend_kst_sig', 'trend_kst_diff', 'trend_ichimoku_a', 'trend_ichimoku_b', 'trend_visual_ichimoku_a', 'trend_visual_ichimoku_b', 'trend_aroon_up', 'trend_aroon_down', 'trend_aroon_ind', 'momentum_rsi', 'momentum_mfi', 'momentum_tsi', 'momentum_uo', 'momentum_stoch', 'momentum_stoch_signal', 'momentum_wr', 'momentum_ao', 'others_dr', 'others_dlr', 'others_cr', 'close_diff']\n",
      "model fitted\n",
      "train accuracy: 0.9999286529680366\n",
      "predictions made\n",
      "test accuracy: 0.8822516784300224\n",
      "RandomForestClassifier(bootstrap=True, class_weight=None, criterion='gini',\n",
      "                       max_depth=50, max_features='auto', max_leaf_nodes=None,\n",
      "                       min_impurity_decrease=0.0, min_impurity_split=None,\n",
      "                       min_samples_leaf=1, min_samples_split=2,\n",
      "                       min_weight_fraction_leaf=0.0, n_estimators=100,\n",
      "                       n_jobs=-1, oob_score=False, random_state=42, verbose=0,\n",
      "                       warm_start=False) pickle saved!\n",
      "hitbtc_ltc_usdt\n"
     ]
    },
    {
     "name": "stderr",
     "output_type": "stream",
     "text": [
      "//anaconda3/envs/cryptolytic/lib/python3.7/site-packages/ipykernel_launcher.py:18: FutureWarning: how in .resample() is deprecated\n",
      "the new syntax is .resample(...)..apply(<func>)\n",
      "//anaconda3/envs/cryptolytic/lib/python3.7/site-packages/ta/trend.py:170: RuntimeWarning: invalid value encountered in double_scalars\n",
      "  dip[i] = 100 * (dip_mio[i]/trs[i])\n",
      "//anaconda3/envs/cryptolytic/lib/python3.7/site-packages/ta/trend.py:174: RuntimeWarning: invalid value encountered in double_scalars\n",
      "  din[i] = 100 * (din_mio[i]/trs[i])\n"
     ]
    },
    {
     "name": "stdout",
     "output_type": "stream",
     "text": [
      "train and test shape (hitbtc_ltc_usdt): (33236, 69) (5809, 69)\n",
      "['open', 'high', 'low', 'close', 'base_volume', 'nan_ohlc', 'year', 'month', 'day', 'volume_adi', 'volume_obv', 'volume_cmf', 'volume_fi', 'volume_em', 'volume_vpt', 'volume_nvi', 'volatility_atr', 'volatility_bbh', 'volatility_bbl', 'volatility_bbm', 'volatility_bbhi', 'volatility_bbli', 'volatility_kcc', 'volatility_kch', 'volatility_kcl', 'volatility_kchi', 'volatility_kcli', 'volatility_dch', 'volatility_dcl', 'volatility_dchi', 'volatility_dcli', 'trend_macd', 'trend_macd_signal', 'trend_macd_diff', 'trend_ema_fast', 'trend_ema_slow', 'trend_adx_pos', 'trend_adx_neg', 'trend_vortex_ind_pos', 'trend_vortex_ind_neg', 'trend_vortex_diff', 'trend_trix', 'trend_mass_index', 'trend_cci', 'trend_dpo', 'trend_kst', 'trend_kst_sig', 'trend_kst_diff', 'trend_ichimoku_a', 'trend_ichimoku_b', 'trend_visual_ichimoku_a', 'trend_visual_ichimoku_b', 'trend_aroon_up', 'trend_aroon_down', 'trend_aroon_ind', 'momentum_rsi', 'momentum_mfi', 'momentum_tsi', 'momentum_uo', 'momentum_stoch', 'momentum_stoch_signal', 'momentum_wr', 'momentum_ao', 'others_dr', 'others_dlr', 'others_cr', 'close_diff']\n",
      "model fitted\n",
      "train accuracy: 0.9999398242869179\n",
      "predictions made\n",
      "test accuracy: 0.8364606644861422\n",
      "RandomForestClassifier(bootstrap=True, class_weight=None, criterion='gini',\n",
      "                       max_depth=50, max_features='auto', max_leaf_nodes=None,\n",
      "                       min_impurity_decrease=0.0, min_impurity_split=None,\n",
      "                       min_samples_leaf=1, min_samples_split=2,\n",
      "                       min_weight_fraction_leaf=0.0, n_estimators=100,\n",
      "                       n_jobs=-1, oob_score=False, random_state=42, verbose=0,\n",
      "                       warm_start=False) pickle saved!\n",
      "hitbtc_btc_usdt\n"
     ]
    },
    {
     "name": "stderr",
     "output_type": "stream",
     "text": [
      "//anaconda3/envs/cryptolytic/lib/python3.7/site-packages/ipykernel_launcher.py:18: FutureWarning: how in .resample() is deprecated\n",
      "the new syntax is .resample(...)..apply(<func>)\n",
      "//anaconda3/envs/cryptolytic/lib/python3.7/site-packages/ta/trend.py:170: RuntimeWarning: invalid value encountered in double_scalars\n",
      "  dip[i] = 100 * (dip_mio[i]/trs[i])\n",
      "//anaconda3/envs/cryptolytic/lib/python3.7/site-packages/ta/trend.py:174: RuntimeWarning: invalid value encountered in double_scalars\n",
      "  din[i] = 100 * (din_mio[i]/trs[i])\n"
     ]
    },
    {
     "name": "stdout",
     "output_type": "stream",
     "text": [
      "train and test shape (hitbtc_btc_usdt): (33236, 69) (5809, 69)\n",
      "['open', 'high', 'low', 'close', 'base_volume', 'nan_ohlc', 'year', 'month', 'day', 'volume_adi', 'volume_obv', 'volume_cmf', 'volume_fi', 'volume_em', 'volume_vpt', 'volume_nvi', 'volatility_atr', 'volatility_bbh', 'volatility_bbl', 'volatility_bbm', 'volatility_bbhi', 'volatility_bbli', 'volatility_kcc', 'volatility_kch', 'volatility_kcl', 'volatility_kchi', 'volatility_kcli', 'volatility_dch', 'volatility_dcl', 'volatility_dchi', 'volatility_dcli', 'trend_macd', 'trend_macd_signal', 'trend_macd_diff', 'trend_ema_fast', 'trend_ema_slow', 'trend_adx_pos', 'trend_adx_neg', 'trend_vortex_ind_pos', 'trend_vortex_ind_neg', 'trend_vortex_diff', 'trend_trix', 'trend_mass_index', 'trend_cci', 'trend_dpo', 'trend_kst', 'trend_kst_sig', 'trend_kst_diff', 'trend_ichimoku_a', 'trend_ichimoku_b', 'trend_visual_ichimoku_a', 'trend_visual_ichimoku_b', 'trend_aroon_up', 'trend_aroon_down', 'trend_aroon_ind', 'momentum_rsi', 'momentum_mfi', 'momentum_tsi', 'momentum_uo', 'momentum_stoch', 'momentum_stoch_signal', 'momentum_wr', 'momentum_ao', 'others_dr', 'others_dlr', 'others_cr', 'close_diff']\n",
      "model fitted\n",
      "train accuracy: 1.0\n",
      "predictions made\n",
      "test accuracy: 0.8968841452917886\n",
      "RandomForestClassifier(bootstrap=True, class_weight=None, criterion='gini',\n",
      "                       max_depth=50, max_features='auto', max_leaf_nodes=None,\n",
      "                       min_impurity_decrease=0.0, min_impurity_split=None,\n",
      "                       min_samples_leaf=1, min_samples_split=2,\n",
      "                       min_weight_fraction_leaf=0.0, n_estimators=100,\n",
      "                       n_jobs=-1, oob_score=False, random_state=42, verbose=0,\n",
      "                       warm_start=False) pickle saved!\n"
     ]
    }
   ],
   "source": [
    "def modeling_pipeline(csv_filenames):\n",
    "    \"\"\"Takes csv file paths of data for modeling, performs feature engineering,\n",
    "        train/test split, creates a model, reports train/test score, and saves\n",
    "        a pickle file of the model in a directory called /pickles.\"\"\"\n",
    "    \n",
    "    for file in csv_filenames:\n",
    "        \n",
    "        # define model name \n",
    "        name = file.split('/')[1][:-9]\n",
    "        print(name)\n",
    "        \n",
    "        # read csv\n",
    "        df = pd.read_csv(file, index_col=0)\n",
    "        \n",
    "        # engineer features\n",
    "        df = feature_engineering(df)\n",
    "        \n",
    "        # train test split\n",
    "        train = df[df['date'] < '2018-09-30 23:00:00'] # cutoff sept 30 2018\n",
    "        test = df[df['date'] > '2019-01-31 23:00:00'] # cutoff jan 31 2019\n",
    "        print('train and test shape ({model}):'.format(model=name), train.shape, test.shape)\n",
    "        \n",
    "        # features and target\n",
    "        features = df.drop(columns=['target', 'date']).columns.tolist()\n",
    "        target = 'target'\n",
    "        print(features)\n",
    "\n",
    "        # define X, y vectors\n",
    "        X_train = train[features]\n",
    "        X_test = test[features]\n",
    "        y_train = train[target]\n",
    "        y_test = test[target]\n",
    "        \n",
    "        # instantiate model\n",
    "        model = RandomForestClassifier(max_depth=50, n_estimators=100, n_jobs=-1, random_state=42)\n",
    "        \n",
    "        # fit model\n",
    "        if X_train.shape[0] > 1000:\n",
    "            model.fit(X_train, y_train)\n",
    "            print('model fitted')\n",
    "\n",
    "            # train accuracy\n",
    "            train_score = model.score(X_train, y_train)\n",
    "            print('train accuracy:', train_score)\n",
    "\n",
    "            # make predictions\n",
    "            y_preds = model.predict(X_test)\n",
    "            print('predictions made')\n",
    "\n",
    "            # test accuracy\n",
    "            score = accuracy_score(y_test, y_preds)\n",
    "            print('test accuracy:', score)\n",
    "\n",
    "            # return model pkl\n",
    "            pickle.dump(model, open('pickles/{model}.pkl'.format(model=name), 'wb'))\n",
    "            print('{model} pickle saved!'.format(model=model))\n",
    "            \n",
    "        else:\n",
    "            print('{model} does not have enough data!'.format(model=name))\n",
    "        \n",
    "        \n",
    "pipeline(csv_filenames)"
   ]
  },
  {
   "cell_type": "markdown",
   "metadata": {},
   "source": [
    "## Load All Pickles"
   ]
  },
  {
   "cell_type": "code",
   "execution_count": 141,
   "metadata": {},
   "outputs": [
    {
     "data": {
      "text/plain": [
       "9"
      ]
     },
     "execution_count": 141,
     "metadata": {},
     "output_type": "execute_result"
    }
   ],
   "source": [
    "# Get pickle file paths into a variable\n",
    "pickle_paths = glob.glob('pickles/*.pkl')\n",
    "len(pickle_paths)"
   ]
  },
  {
   "cell_type": "markdown",
   "metadata": {},
   "source": [
    "## Calculate Profit and Loss"
   ]
  },
  {
   "cell_type": "code",
   "execution_count": 184,
   "metadata": {},
   "outputs": [],
   "source": [
    "def performance2(X_test, y_preds):\n",
    "    \"\"\" Takes in a test dataset and a model's predictions, calculates and returns\n",
    "        the profit or loss \"\"\"\n",
    "    \n",
    "    max_profit = 9000\n",
    "    fee_rate = 0.0001\n",
    "    \n",
    "    \n",
    "    # create a dataframe for features and predictions\n",
    "    df_preds = X_test\n",
    "    df_preds['y_preds'] = y_preds\n",
    "    \n",
    "    # creates a column with 0s for False predictions and 1s for True predictions\n",
    "    df_preds['binary_y_preds'] = df_preds['y_preds'].shift(1).apply(lambda x: 1 if x == True else 0)\n",
    "    \n",
    "    # performance results from adding the closing difference percentage of the rows where trades were executed\n",
    "    performance = ((10000 * df_preds['binary_y_preds']*df_preds['close_diff']).sum())\n",
    "    \n",
    "    # calculating fees and improve trading strategy\n",
    "    \n",
    "    # creates a count list for when trades were triggered\n",
    "    df_preds['preds_count'] = df_preds['binary_y_preds'].cumsum()\n",
    "    \n",
    "    # feature that determines the instance of whether the list increased\n",
    "    increase_count = df_preds['preds_count'].diff(1)\n",
    "    df_preds['increase_count'] = increase_count\n",
    "    \n",
    "    # creates signal of when to buy(1), hold(0), or sell(-1)\n",
    "    df_preds['trade_trig'] = df_preds['increase_count'].diff(1)\n",
    "    \n",
    "    # get number of total entries (1s)\n",
    "    number_of_entries = (df_preds.trade_trig.values==1).sum()\n",
    "    \n",
    "    # adj performance takes into account fees given the rate at the beginning of this function\n",
    "    adj_performance = performance - (number_of_entries * 2 * fee_rate * 10000)\n",
    "    \n",
    "    if performance > max_profit:\n",
    "        perf_type = 'adjusted'\n",
    "        return adj_performance, perf_type\n",
    "    \n",
    "    else:\n",
    "        perf_type = 'regular'\n",
    "        return performance, perf_type"
   ]
  },
  {
   "cell_type": "code",
   "execution_count": 181,
   "metadata": {},
   "outputs": [],
   "source": [
    "def profit_and_loss(model_paths, csv_paths):\n",
    "    \n",
    "    \"\"\" Takes a list of pickled model paths and csv_paths and prints\n",
    "    a profit and loss statement. Returns a list of the profits and\n",
    "    losses.\"\"\"\n",
    "    \n",
    "    pnl_list = []\n",
    "    line = '------------------------------'\n",
    "    space1 = '                             '\n",
    "    space2 = '                            '\n",
    "    space3 = '                         '\n",
    "    for model_path in sorted(model_paths):\n",
    "        # define model name\n",
    "        model_name = model_path.split('/')[1][:-4]\n",
    "        \n",
    "        for csv_path in csv_paths:\n",
    "            # define which dataset\n",
    "            csv_name = csv_path.split('/')[1][:-9]\n",
    "            \n",
    "            # find the right match for model and data\n",
    "            if csv_name == model_name:\n",
    "                print(line, model_name.upper(), line)\n",
    "                # create df\n",
    "                df = pd.read_csv(path, index_col=0)\n",
    "                \n",
    "                # engineer features\n",
    "                df = feature_engineering(df)\n",
    "\n",
    "                # create test set\n",
    "                test = df[df['date'] > '2019-01-31 23:00:00'] # cutoff jan 31 2019\n",
    "                print('{space} test data rows:'.format(space=space1), test.shape[0])\n",
    "                print('{space} test data features:'.format(space=space2), test.shape[1])\n",
    "                \n",
    "                # features and target\n",
    "                features = df.drop(columns=['target', 'date']).columns.tolist()\n",
    "                target = 'target'\n",
    "\n",
    "                # define X, y vectors\n",
    "                X_test = test[features]\n",
    "                y_test = test[target]\n",
    "                \n",
    "                # load model\n",
    "                loaded_model = pickle.load(open(model_path, 'rb'))\n",
    "                \n",
    "                # make predictions\n",
    "                y_preds = loaded_model.predict(X_test)\n",
    "                \n",
    "                # calculate performance\n",
    "                pnl, perf_type = performance(X_test, y_preds)\n",
    "                print(space3 + 'The model\\'s profit is ${pnl}'.format(perf_type=perf_type, pnl=round(pnl,2)) + '\\n\\n')\n",
    "                pnl_list.append('{model_name} performance:  '.format(model_name=model_name) + str(round(pnl, 2)))\n",
    "\n",
    "    return pnl_list"
   ]
  },
  {
   "cell_type": "code",
   "execution_count": 182,
   "metadata": {},
   "outputs": [
    {
     "name": "stdout",
     "output_type": "stream",
     "text": [
      "------------------------------ BITFINEX_BTC_USD ------------------------------\n",
      "                              test data rows: 5809\n",
      "                             test data features: 69\n",
      "                         The model's profit is $2325.47\n",
      "\n",
      "\n",
      "------------------------------ BITFINEX_ETH_USD ------------------------------\n",
      "                              test data rows: 5809\n",
      "                             test data features: 69\n",
      "                         The model's profit is $2967.15\n",
      "\n",
      "\n",
      "------------------------------ BITFINEX_LTC_USD ------------------------------\n",
      "                              test data rows: 5809\n",
      "                             test data features: 69\n",
      "                         The model's profit is $5673.72\n",
      "\n",
      "\n",
      "------------------------------ COINBASE_PRO_BTC_USD ------------------------------\n",
      "                              test data rows: 5809\n",
      "                             test data features: 69\n",
      "                         The model's profit is $1750.25\n",
      "\n",
      "\n",
      "------------------------------ COINBASE_PRO_ETH_USD ------------------------------\n",
      "                              test data rows: 5809\n",
      "                             test data features: 69\n",
      "                         The model's profit is $1853.03\n",
      "\n",
      "\n",
      "------------------------------ COINBASE_PRO_LTC_USD ------------------------------\n",
      "                              test data rows: 5809\n",
      "                             test data features: 69\n",
      "                         The model's profit is $7993.11\n",
      "\n",
      "\n",
      "------------------------------ HITBTC_BTC_USDT ------------------------------\n",
      "                              test data rows: 5809\n",
      "                             test data features: 69\n",
      "                         The model's profit is $2025.07\n",
      "\n",
      "\n",
      "------------------------------ HITBTC_ETH_USDT ------------------------------\n",
      "                              test data rows: 5809\n",
      "                             test data features: 69\n",
      "                         The model's profit is $2359.55\n",
      "\n",
      "\n",
      "------------------------------ HITBTC_LTC_USDT ------------------------------\n",
      "                              test data rows: 5809\n",
      "                             test data features: 69\n",
      "                         The model's profit is $5980.75\n",
      "\n",
      "\n"
     ]
    },
    {
     "data": {
      "text/plain": [
       "['bitfinex_btc_usd performance:  2325.47',\n",
       " 'bitfinex_eth_usd performance:  2967.15',\n",
       " 'bitfinex_ltc_usd performance:  5673.72',\n",
       " 'coinbase_pro_btc_usd performance:  1750.25',\n",
       " 'coinbase_pro_eth_usd performance:  1853.03',\n",
       " 'coinbase_pro_ltc_usd performance:  7993.11',\n",
       " 'hitbtc_btc_usdt performance:  2025.07',\n",
       " 'hitbtc_eth_usdt performance:  2359.55',\n",
       " 'hitbtc_ltc_usdt performance:  5980.75']"
      ]
     },
     "execution_count": 182,
     "metadata": {},
     "output_type": "execute_result"
    }
   ],
   "source": [
    "profit_and_loss(pickle_paths, csv_filenames)"
   ]
  },
  {
   "cell_type": "code",
   "execution_count": 185,
   "metadata": {},
   "outputs": [
    {
     "name": "stdout",
     "output_type": "stream",
     "text": [
      "------------------------------ BITFINEX_BTC_USD ------------------------------\n",
      "                              test data rows: 5809\n",
      "                             test data features: 69\n",
      "                         The model's profit is $2325.47\n",
      "\n",
      "\n",
      "------------------------------ BITFINEX_ETH_USD ------------------------------\n",
      "                              test data rows: 5809\n",
      "                             test data features: 69\n",
      "                         The model's profit is $2967.15\n",
      "\n",
      "\n",
      "------------------------------ BITFINEX_LTC_USD ------------------------------\n",
      "                              test data rows: 5809\n",
      "                             test data features: 69\n",
      "                         The model's profit is $5673.72\n",
      "\n",
      "\n",
      "------------------------------ COINBASE_PRO_BTC_USD ------------------------------\n",
      "                              test data rows: 5809\n",
      "                             test data features: 69\n",
      "                         The model's profit is $1750.25\n",
      "\n",
      "\n",
      "------------------------------ COINBASE_PRO_ETH_USD ------------------------------\n",
      "                              test data rows: 5809\n",
      "                             test data features: 69\n",
      "                         The model's profit is $1853.03\n",
      "\n",
      "\n",
      "------------------------------ COINBASE_PRO_LTC_USD ------------------------------\n",
      "                              test data rows: 5809\n",
      "                             test data features: 69\n",
      "                         The model's profit is $7993.11\n",
      "\n",
      "\n",
      "------------------------------ HITBTC_BTC_USDT ------------------------------\n",
      "                              test data rows: 5809\n",
      "                             test data features: 69\n",
      "                         The model's profit is $2025.07\n",
      "\n",
      "\n",
      "------------------------------ HITBTC_ETH_USDT ------------------------------\n",
      "                              test data rows: 5809\n",
      "                             test data features: 69\n",
      "                         The model's profit is $2359.55\n",
      "\n",
      "\n",
      "------------------------------ HITBTC_LTC_USDT ------------------------------\n",
      "                              test data rows: 5809\n",
      "                             test data features: 69\n",
      "                         The model's profit is $5980.75\n",
      "\n",
      "\n"
     ]
    },
    {
     "data": {
      "text/plain": [
       "['bitfinex_btc_usd performance:  2325.47',\n",
       " 'bitfinex_eth_usd performance:  2967.15',\n",
       " 'bitfinex_ltc_usd performance:  5673.72',\n",
       " 'coinbase_pro_btc_usd performance:  1750.25',\n",
       " 'coinbase_pro_eth_usd performance:  1853.03',\n",
       " 'coinbase_pro_ltc_usd performance:  7993.11',\n",
       " 'hitbtc_btc_usdt performance:  2025.07',\n",
       " 'hitbtc_eth_usdt performance:  2359.55',\n",
       " 'hitbtc_ltc_usdt performance:  5980.75']"
      ]
     },
     "execution_count": 185,
     "metadata": {},
     "output_type": "execute_result"
    }
   ],
   "source": [
    "profit_and_loss(pickle_paths, csv_filenames)"
   ]
  },
  {
   "cell_type": "code",
   "execution_count": null,
   "metadata": {},
   "outputs": [],
   "source": []
  }
 ],
 "metadata": {
  "kernelspec": {
   "display_name": "cryptolytic",
   "language": "python",
   "name": "cryptolytic"
  },
  "language_info": {
   "codemirror_mode": {
    "name": "ipython",
    "version": 3
   },
   "file_extension": ".py",
   "mimetype": "text/x-python",
   "name": "python",
   "nbconvert_exporter": "python",
   "pygments_lexer": "ipython3",
   "version": "3.7.4"
  }
 },
 "nbformat": 4,
 "nbformat_minor": 4
}
