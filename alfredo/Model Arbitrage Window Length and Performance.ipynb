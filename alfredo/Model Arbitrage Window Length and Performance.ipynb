{
 "cells": [
  {
   "cell_type": "code",
   "execution_count": 47,
   "metadata": {},
   "outputs": [],
   "source": [
    "import pandas as pd\n",
    "interval=5\n",
    "def get_target_value(df, interval=interval):\n",
    "    if df['window_length_shift'] >= interval:\n",
    "        if df['arbitrage_opportunity_shift'] == 'arbitrage_exchange_1_to_exchange_2':\n",
    "            return 'arbitrage_exchange_1_to_exchange_2'\n",
    "        elif df['arbitrage_opportunity_shift'] == 'arbitrage_exchange_2_to_exchange_1':\n",
    "            return 'arbitrage_exchange_2_to_exchange_1'\n",
    "        elif df['arbitrage_opportunity_shift'] == 'no_arbitrage':\n",
    "            return 'no_arbitrage'\n",
    "    else:\n",
    "        return 'no_arbitrage'\n",
    "    \n",
    "def get_target(df, interval=interval):\n",
    "    \n",
    "    rows_to_shift = int(-1*(interval/5))\n",
    "    \n",
    "    df['arbitrage_opportunity_shift'] = df['arbitrage_opportunity'].shift(rows_to_shift)\n",
    "    df['window_length_shift'] = df['window_length'].shift(rows_to_shift)\n",
    "    \n",
    "    df['target'] = df.apply(get_target_value, axis=1)\n",
    "    \n",
    "    df = df.drop(columns=['window_length_shift', 'arbitrage_opportunity_shift'])\n",
    "    \n",
    "    return df\n",
    "df = pd.read_csv('arbitrage_data/bitfinex_coinbase_pro_etc_usd.csv', index_col=0)\n",
    "df = get_target(df)"
   ]
  },
  {
   "cell_type": "code",
   "execution_count": 48,
   "metadata": {},
   "outputs": [
    {
     "data": {
      "text/plain": [
       "((15327, 87), (15327, 1), (86989, 87), (86989, 1))"
      ]
     },
     "execution_count": 48,
     "metadata": {},
     "output_type": "execute_result"
    }
   ],
   "source": [
    "start_of_oct_2018 = 1538352000\n",
    "start_of_jan_2019 = 1546300800\n",
    "\n",
    "target = ['target']\n",
    "\n",
    "train = df[df['closing_time'] < start_of_oct_2018]\n",
    "test = df[df['closing_time'] > start_of_jan_2019]\n",
    "\n",
    "X_train = train.drop(columns=target).reset_index(drop=True)\n",
    "y_train = train[target].reset_index(drop=True)\n",
    "\n",
    "X_test = test.drop(columns=target).reset_index(drop=True)\n",
    "y_test = test[target].reset_index(drop=True)\n",
    "\n",
    "X_train.shape, y_train.shape, X_test.shape, y_test.shape"
   ]
  },
  {
   "cell_type": "code",
   "execution_count": 49,
   "metadata": {},
   "outputs": [],
   "source": [
    "X_train = X_train.drop(columns=['arbitrage_opportunity'])\n",
    "X_test = X_test.drop(columns=['arbitrage_opportunity'])"
   ]
  },
  {
   "cell_type": "code",
   "execution_count": 50,
   "metadata": {},
   "outputs": [
    {
     "name": "stderr",
     "output_type": "stream",
     "text": [
      "/anaconda3/lib/python3.7/site-packages/ipykernel_launcher.py:9: DataConversionWarning: A column-vector y was passed when a 1d array was expected. Please change the shape of y to (n_samples,), for example using ravel().\n",
      "  if __name__ == '__main__':\n"
     ]
    },
    {
     "name": "stdout",
     "output_type": "stream",
     "text": [
      "Train Accuracy: 1.0\n",
      "Test Accuracy: 0.5585188931933923\n"
     ]
    }
   ],
   "source": [
    "#MODEL\n",
    "\n",
    "# from xgboost import XGBClassifier\n",
    "from sklearn.ensemble import RandomForestClassifier\n",
    "from sklearn.metrics import accuracy_score\n",
    "\n",
    "# model = XGBClassifier()\n",
    "model = RandomForestClassifier(max_depth=50, n_estimators=100, n_jobs=-1)\n",
    "model.fit(X_train, y_train)\n",
    "\n",
    "pred_train = model.predict(X_train)\n",
    "pred_test = model.predict(X_test)\n",
    "\n",
    "train_accuracy = accuracy_score(y_train, pred_train)\n",
    "test_accuracy = accuracy_score(y_test, pred_test)\n",
    "\n",
    "print(\"Train Accuracy:\", train_accuracy)\n",
    "print(\"Test Accuracy:\", test_accuracy)"
   ]
  },
  {
   "cell_type": "code",
   "execution_count": 51,
   "metadata": {},
   "outputs": [],
   "source": [
    "def binary_pred_exchange_1(df):\n",
    "\n",
    "  if df['pred_test'] == 'arbitrage_exchange_1_to_exchange_2':\n",
    "    return 1\n",
    "  else:\n",
    "    return 0\n",
    "\n",
    "def binary_pred_exchange_2(df):\n",
    "\n",
    "  if df['pred_test'] == 'arbitrage_exchange_2_to_exchange_1':\n",
    "    return 1\n",
    "  else:\n",
    "    return 0"
   ]
  },
  {
   "cell_type": "code",
   "execution_count": 17,
   "metadata": {},
   "outputs": [],
   "source": [
    "def trade_pct(X_test, pred_test):\n",
    "\n",
    "  rows_to_shift = int(-1*(interval/5))\n",
    "  df_pred = X_test\n",
    "  df_pred['pred_test'] = pred_test\n",
    "\n",
    "  df_pred['binary_pred_exchange_1'] = df_pred.apply(binary_pred_exchange_1, axis=1)\n",
    "\n",
    "  df_pred['binary_pred_exchange_2'] = df_pred.apply(binary_pred_exchange_2, axis=1)\n",
    "\n",
    "  df_pred['pct_diff_interval_exchange_1_to_2'] = (df_pred['close_exchange_2'].shift(rows_to_shift) - df_pred['close_exchange_1'])/ df_pred['close_exchange_1'] \n",
    "\n",
    "  df_pred['pct_diff_interval_exchange_2_to_1'] = (df_pred['close_exchange_1'].shift(rows_to_shift) - df_pred['close_exchange_2'])/ df_pred['close_exchange_2'] \n",
    "\n",
    "  print(df_pred['pred_test'].value_counts())\n",
    "\n",
    "  print (((df_pred['binary_pred_exchange_1'] * df_pred['pct_diff_interval_exchange_1_to_2']) + (df_pred['binary_pred_exchange_2'] * df_pred['pct_diff_interval_exchange_2_to_1'])).sum()) \n",
    "\n",
    "  return df_pred"
   ]
  },
  {
   "cell_type": "code",
   "execution_count": 19,
   "metadata": {},
   "outputs": [
    {
     "name": "stdout",
     "output_type": "stream",
     "text": [
      "no_arbitrage    87000\n",
      "Name: pred_test, dtype: int64\n",
      "0.0\n"
     ]
    }
   ],
   "source": [
    "# df_pred = trade_pct(X_test, pred_test)"
   ]
  },
  {
   "cell_type": "code",
   "execution_count": 52,
   "metadata": {},
   "outputs": [],
   "source": [
    "def trade_pct_with_fees(X_test, pred_test):\n",
    "  \n",
    "  fee_rate_exchange_1 = 0.275\n",
    "  fee_rate_exchange_2 = 0.275\n",
    "\n",
    "  rows_to_shift = int(-1*(interval/5))\n",
    "  df_pred = X_test\n",
    "  df_pred['pred_test'] = pred_test\n",
    "\n",
    "  df_pred['binary_pred_exchange_1'] = df_pred.apply(binary_pred_exchange_1, axis=1)\n",
    "\n",
    "  df_pred['binary_pred_exchange_2'] = df_pred.apply(binary_pred_exchange_2, axis=1)\n",
    "\n",
    "  df_pred['pct_diff_interval_exchange_1_to_2'] = (df_pred['close_exchange_2'].shift(rows_to_shift) - df_pred['close_exchange_1'])/ df_pred['close_exchange_1'] \n",
    "\n",
    "  df_pred['pct_diff_interval_exchange_2_to_1'] = (df_pred['close_exchange_1'].shift(rows_to_shift) - df_pred['close_exchange_2'])/ df_pred['close_exchange_2'] \n",
    "\n",
    "  trades_exchange_1_to_exchange_2 = (df_pred.pred_test == 'arbitrage_exchange_1_to_exchange_2').sum()\n",
    "    \n",
    "  trades_exchange_2_to_exchange_1 = (df_pred.pred_test == 'arbitrage_exchange_2_to_exchange_1').sum()\n",
    "\n",
    "  fees_exchange_1 = trades_exchange_1_to_exchange_2 * fee_rate_exchange_1/100\n",
    "    \n",
    "  fees_exchange_2 = trades_exchange_2_to_exchange_1 * fee_rate_exchange_2/100\n",
    "\n",
    "  total_fees = (fees_exchange_1 + (trades_exchange_1_to_exchange_2 * fee_rate_exchange_2/100) + fees_exchange_2 + (trades_exchange_2_to_exchange_1 * fee_rate_exchange_1/100))\n",
    "\n",
    "  print(df_pred['pred_test'].value_counts())\n",
    "\n",
    "  print (((df_pred['binary_pred_exchange_1'] * df_pred['pct_diff_interval_exchange_1_to_2']) + (df_pred['binary_pred_exchange_2'] * df_pred['pct_diff_interval_exchange_2_to_1'])).sum() - total_fees)\n",
    "\n",
    "  return df_pred"
   ]
  },
  {
   "cell_type": "code",
   "execution_count": 53,
   "metadata": {},
   "outputs": [
    {
     "name": "stdout",
     "output_type": "stream",
     "text": [
      "no_arbitrage                          86982\n",
      "arbitrage_exchange_2_to_exchange_1        7\n",
      "Name: pred_test, dtype: int64\n",
      "-0.06164280949255871\n"
     ]
    }
   ],
   "source": [
    "df_pred_with_fees = trade_pct_with_fees(X_test, pred_test)"
   ]
  },
  {
   "cell_type": "code",
   "execution_count": null,
   "metadata": {},
   "outputs": [],
   "source": []
  }
 ],
 "metadata": {
  "kernelspec": {
   "display_name": "Python 3",
   "language": "python",
   "name": "python3"
  },
  "language_info": {
   "codemirror_mode": {
    "name": "ipython",
    "version": 3
   },
   "file_extension": ".py",
   "mimetype": "text/x-python",
   "name": "python",
   "nbconvert_exporter": "python",
   "pygments_lexer": "ipython3",
   "version": "3.7.3"
  }
 },
 "nbformat": 4,
 "nbformat_minor": 4
}
