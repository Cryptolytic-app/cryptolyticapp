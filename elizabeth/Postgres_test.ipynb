{
  "nbformat": 4,
  "nbformat_minor": 0,
  "metadata": {
    "kernelspec": {
      "display_name": "Python 3",
      "language": "python",
      "name": "python3"
    },
    "language_info": {
      "codemirror_mode": {
        "name": "ipython",
        "version": 3
      },
      "file_extension": ".py",
      "mimetype": "text/x-python",
      "name": "python",
      "nbconvert_exporter": "python",
      "pygments_lexer": "ipython3",
      "version": "3.7.3"
    },
    "colab": {
      "name": "Postgres_test.ipynb",
      "provenance": [],
      "collapsed_sections": [
        "pOLsiXGgMfEc",
        "FuQ5T2QwMHCo"
      ]
    }
  },
  "cells": [
    {
      "cell_type": "markdown",
      "metadata": {
        "id": "pOLsiXGgMfEc",
        "colab_type": "text"
      },
      "source": [
        "# PIP INSTALLS"
      ]
    },
    {
      "cell_type": "code",
      "metadata": {
        "id": "lh1Om3pypk2E",
        "colab_type": "code",
        "outputId": "92c8165c-5cc6-420f-d66c-49260d2469e7",
        "colab": {
          "base_uri": "https://localhost:8080/",
          "height": 122
        }
      },
      "source": [
        "!pip install psycopg2-binary"
      ],
      "execution_count": 1,
      "outputs": [
        {
          "output_type": "stream",
          "text": [
            "Collecting psycopg2-binary\n",
            "\u001b[?25l  Downloading https://files.pythonhosted.org/packages/b1/35/75c9c2d9cfc073ab6c42b2d8e91ff58c9b99f4ed7ed56b36647642e6080e/psycopg2_binary-2.8.3-cp36-cp36m-manylinux1_x86_64.whl (2.9MB)\n",
            "\u001b[K     |████████████████████████████████| 2.9MB 2.8MB/s \n",
            "\u001b[?25hInstalling collected packages: psycopg2-binary\n",
            "Successfully installed psycopg2-binary-2.8.3\n"
          ],
          "name": "stdout"
        }
      ]
    },
    {
      "cell_type": "code",
      "metadata": {
        "id": "GhEhqIcwtoMI",
        "colab_type": "code",
        "outputId": "2a5f4937-2f88-4f14-8595-13760bddef7f",
        "colab": {
          "base_uri": "https://localhost:8080/",
          "height": 735
        }
      },
      "source": [
        "!pip install cbpro"
      ],
      "execution_count": 2,
      "outputs": [
        {
          "output_type": "stream",
          "text": [
            "Collecting cbpro\n",
            "  Downloading https://files.pythonhosted.org/packages/54/c1/afa1482587268a8d1bda15f993fd1eaad038a62f41d860d82bb3b282c7d1/cbpro-1.1.4-py2.py3-none-any.whl\n",
            "Collecting six==1.10.0 (from cbpro)\n",
            "  Downloading https://files.pythonhosted.org/packages/c8/0a/b6723e1bc4c516cb687841499455a8505b44607ab535be01091c0f24f079/six-1.10.0-py2.py3-none-any.whl\n",
            "Collecting websocket-client==0.40.0 (from cbpro)\n",
            "\u001b[?25l  Downloading https://files.pythonhosted.org/packages/a7/2b/0039154583cb0489c8e18313aa91ccd140ada103289c5c5d31d80fd6d186/websocket_client-0.40.0.tar.gz (196kB)\n",
            "\u001b[K     |████████████████████████████████| 204kB 8.3MB/s \n",
            "\u001b[?25hCollecting requests==2.13.0 (from cbpro)\n",
            "\u001b[?25l  Downloading https://files.pythonhosted.org/packages/7e/ac/a80ed043485a3764053f59ca92f809cc8a18344692817152b0e8bd3ca891/requests-2.13.0-py2.py3-none-any.whl (584kB)\n",
            "\u001b[K     |████████████████████████████████| 593kB 42.6MB/s \n",
            "\u001b[?25hCollecting pymongo==3.5.1 (from cbpro)\n",
            "\u001b[?25l  Downloading https://files.pythonhosted.org/packages/10/b3/2a3dd782a8bc51d6a715ed1db8d1851271ab454a8da67c462f7ecab16356/pymongo-3.5.1-cp36-cp36m-manylinux1_x86_64.whl (365kB)\n",
            "\u001b[K     |████████████████████████████████| 368kB 40.7MB/s \n",
            "\u001b[?25hRequirement already satisfied: sortedcontainers>=1.5.9 in /usr/local/lib/python3.6/dist-packages (from cbpro) (2.1.0)\n",
            "Building wheels for collected packages: websocket-client\n",
            "  Building wheel for websocket-client (setup.py) ... \u001b[?25l\u001b[?25hdone\n",
            "  Created wheel for websocket-client: filename=websocket_client-0.40.0-py2.py3-none-any.whl size=198284 sha256=e63a57f5a4e9c33afdf679824827151dde9255fd1cb918010ab3a7e725d9db07\n",
            "  Stored in directory: /root/.cache/pip/wheels/b0/d2/e2/8275906d09421f074dc2d05381643a0b4b3c4945d845b14bf9\n",
            "Successfully built websocket-client\n",
            "\u001b[31mERROR: tfds-nightly 1.2.0.dev201909050105 has requirement requests>=2.19.0, but you'll have requests 2.13.0 which is incompatible.\u001b[0m\n",
            "\u001b[31mERROR: google-colab 1.0.0 has requirement requests~=2.21.0, but you'll have requests 2.13.0 which is incompatible.\u001b[0m\n",
            "\u001b[31mERROR: google-colab 1.0.0 has requirement six~=1.12.0, but you'll have six 1.10.0 which is incompatible.\u001b[0m\n",
            "\u001b[31mERROR: google-api-core 1.14.2 has requirement requests<3.0.0dev,>=2.18.0, but you'll have requests 2.13.0 which is incompatible.\u001b[0m\n",
            "\u001b[31mERROR: datascience 0.10.6 has requirement folium==0.2.1, but you'll have folium 0.8.3 which is incompatible.\u001b[0m\n",
            "\u001b[31mERROR: albumentations 0.1.12 has requirement imgaug<0.2.7,>=0.2.5, but you'll have imgaug 0.2.9 which is incompatible.\u001b[0m\n",
            "Installing collected packages: six, websocket-client, requests, pymongo, cbpro\n",
            "  Found existing installation: six 1.12.0\n",
            "    Uninstalling six-1.12.0:\n",
            "      Successfully uninstalled six-1.12.0\n",
            "  Found existing installation: requests 2.21.0\n",
            "    Uninstalling requests-2.21.0:\n",
            "      Successfully uninstalled requests-2.21.0\n",
            "  Found existing installation: pymongo 3.9.0\n",
            "    Uninstalling pymongo-3.9.0:\n",
            "      Successfully uninstalled pymongo-3.9.0\n",
            "Successfully installed cbpro-1.1.4 pymongo-3.5.1 requests-2.13.0 six-1.10.0 websocket-client-0.40.0\n"
          ],
          "name": "stdout"
        },
        {
          "output_type": "display_data",
          "data": {
            "application/vnd.colab-display-data+json": {
              "pip_warning": {
                "packages": [
                  "requests",
                  "six"
                ]
              }
            }
          },
          "metadata": {
            "tags": []
          }
        }
      ]
    },
    {
      "cell_type": "markdown",
      "metadata": {
        "id": "AW9yxLdwMpKN",
        "colab_type": "text"
      },
      "source": [
        "# Importing Libraries"
      ]
    },
    {
      "cell_type": "code",
      "metadata": {
        "id": "Z3wW3bkMpk2I",
        "colab_type": "code",
        "colab": {}
      },
      "source": [
        "import pandas as pd\n",
        "from sqlalchemy import create_engine\n",
        "from sqlalchemy import MetaData, Table\n",
        "from sqlalchemy import Column, String, Integer\n",
        "from sqlalchemy.ext.declarative import declarative_base\n",
        "from sqlalchemy.orm import sessionmaker\n",
        "import psycopg2 as ps\n",
        "\n",
        "import requests\n",
        "import json\n",
        "\n",
        "import cbpro\n",
        "import time\n",
        "import datetime"
      ],
      "execution_count": 0,
      "outputs": []
    },
    {
      "cell_type": "markdown",
      "metadata": {
        "id": "Y3K7gfjGSodH",
        "colab_type": "text"
      },
      "source": [
        "# CB Pro"
      ]
    },
    {
      "cell_type": "code",
      "metadata": {
        "id": "_akFyX70SuYN",
        "colab_type": "code",
        "outputId": "8f8beefe-06d8-4b26-9fa1-a57cdc0d5768",
        "colab": {
          "base_uri": "https://localhost:8080/",
          "height": 51
        }
      },
      "source": [
        "# connect to public client\n",
        "public_client = cbpro.PublicClient()\n",
        "\n",
        "# get ohlc data - other parameters (start, end)\n",
        "orders = public_client.get_product_historic_rates('ETH-USD', granularity=60)\n",
        "order_candle = orders[0]\n",
        "\n",
        "# function to convert time to datetime\n",
        "def to_datetime(epoch_time):\n",
        "  dt_time = datetime.datetime.utcfromtimestamp(epoch_time).strftime('%Y-%m-%d %H:%M:%S')\n",
        "  return dt_time\n",
        "\n",
        "print('current time:', to_datetime(time.time()), '\\ncbpro request time:', to_datetime(order_candle[0]))"
      ],
      "execution_count": 8,
      "outputs": [
        {
          "output_type": "stream",
          "text": [
            "current time: 2019-10-15 15:36:10 \n",
            "cbpro request time: 2019-10-15 15:28:00\n"
          ],
          "name": "stdout"
        }
      ]
    },
    {
      "cell_type": "code",
      "metadata": {
        "id": "TB4s35-mTMnc",
        "colab_type": "code",
        "outputId": "da9e91bc-bb8c-4f05-f5e6-01e24484f11b",
        "colab": {
          "base_uri": "https://localhost:8080/",
          "height": 34
        }
      },
      "source": [
        "# get current time using:\n",
        "# time.time()\n",
        "\n",
        "# check time on cbpro request\n",
        "datetime.datetime.utcfromtimestamp(1570940504.8549929).strftime('%Y-%m-%d %H:%M:%S')"
      ],
      "execution_count": 0,
      "outputs": [
        {
          "output_type": "execute_result",
          "data": {
            "text/plain": [
              "'2019-10-13 04:21:44'"
            ]
          },
          "metadata": {
            "tags": []
          },
          "execution_count": 9
        }
      ]
    },
    {
      "cell_type": "markdown",
      "metadata": {
        "id": "6u1CAZW7Y-jA",
        "colab_type": "text"
      },
      "source": [
        "# AWS Postgres DB"
      ]
    },
    {
      "cell_type": "code",
      "metadata": {
        "id": "3k9RG_CUZAYs",
        "colab_type": "code",
        "colab": {}
      },
      "source": [
        "POSTGRES_ADDRESS = '' ## End Point\n",
        "POSTGRES_PORT = '' ##Port\n",
        "POSTGRES_USERNAME = '' ## CHANGE THIS TO YOUR PANOPLY/POSTGRES USERNAME\n",
        "POSTGRES_PASSWORD = '' ## CHANGE THIS TO YOUR PANOPLY/POSTGRES PASSWORD \n",
        "POSTGRES_DBNAME = 'postgres' ## CHANGE THIS TO YOUR DATABASE NAME\n",
        "\n",
        "# A long string that contains the necessary Postgres login information \n",
        "postgres_str = ('postgresql://{username}:{password}@{ipaddress}:{port}/{dbname}'.format(username=POSTGRES_USERNAME\n",
        "               , password=POSTGRES_PASSWORD, ipaddress=POSTGRES_ADDRESS,port=POSTGRES_PORT, dbname=POSTGRES_DBNAME))"
      ],
      "execution_count": 0,
      "outputs": []
    },
    {
      "cell_type": "code",
      "metadata": {
        "id": "kOOqzmVZZvlY",
        "colab_type": "code",
        "colab": {
          "base_uri": "https://localhost:8080/",
          "height": 34
        },
        "outputId": "233b5f00-a7c8-4dd9-cfb9-8e0b389fd582"
      },
      "source": [
        "# check connection\n",
        "try:\n",
        "    conn = ps.connect(host=POSTGRES_ADDRESS,database=POSTGRES_DBNAME,user=POSTGRES_USERNAME,password=POSTGRES_PASSWORD,port=POSTGRES_PORT)\n",
        "except ps.OperationalError as e:\n",
        "    raise e\n",
        "else:\n",
        "    print('Connected!')"
      ],
      "execution_count": 12,
      "outputs": [
        {
          "output_type": "stream",
          "text": [
            "Connected!\n"
          ],
          "name": "stdout"
        }
      ]
    },
    {
      "cell_type": "code",
      "metadata": {
        "id": "-k-NlcGwZ4s_",
        "colab_type": "code",
        "outputId": "510c2137-4e80-4fe5-8d45-8954b0de8bd5",
        "colab": {
          "base_uri": "https://localhost:8080/",
          "height": 34
        }
      },
      "source": [
        "# create table\n",
        "\n",
        "conn = ps.connect(host=POSTGRES_ADDRESS,database=POSTGRES_DBNAME,user=POSTGRES_USERNAME,password=POSTGRES_PASSWORD,port=POSTGRES_PORT)\n",
        "\n",
        "cur = conn.cursor()\n",
        "cur.execute('''\n",
        "  CREATE TABLE cbpro_test\n",
        "  (\n",
        "  trade_id integer primary key,\n",
        "  price float,\n",
        "  size float,\n",
        "  time varchar(25),\n",
        "  bid float,\n",
        "  ask float,\n",
        "  volume float\n",
        "  )\n",
        "\n",
        "''')\n",
        "\n",
        "conn.commit()\n",
        "print(\"Table created Successfully!\")\n",
        "conn.close()"
      ],
      "execution_count": 16,
      "outputs": [
        {
          "output_type": "stream",
          "text": [
            "Table created Successfully!\n"
          ],
          "name": "stdout"
        }
      ]
    },
    {
      "cell_type": "code",
      "metadata": {
        "id": "hvE7hGvidaFp",
        "colab_type": "code",
        "colab": {
          "base_uri": "https://localhost:8080/",
          "height": 85
        },
        "outputId": "91c70600-9a8a-4f6d-8ec6-76b17c660d11"
      },
      "source": [
        "# check table names in database\n",
        "\n",
        "conn = ps.connect(host=POSTGRES_ADDRESS,database=POSTGRES_DBNAME,user=POSTGRES_USERNAME,password=POSTGRES_PASSWORD,port=POSTGRES_PORT)\n",
        "\n",
        "cur = conn.cursor()\n",
        "\n",
        "cur.execute(\"\"\"SELECT table_name FROM information_schema.tables\n",
        "       WHERE table_schema = 'public'\"\"\")\n",
        "for table in cur.fetchall():\n",
        "    print(table)"
      ],
      "execution_count": 13,
      "outputs": [
        {
          "output_type": "stream",
          "text": [
            "('cbpro_test',)\n",
            "('cbpro_test2',)\n",
            "('cbpro_test3',)\n",
            "('cbpro_test4',)\n"
          ],
          "name": "stdout"
        }
      ]
    },
    {
      "cell_type": "code",
      "metadata": {
        "id": "XLb28-LlQvjR",
        "colab_type": "code",
        "colab": {
          "base_uri": "https://localhost:8080/",
          "height": 34
        },
        "outputId": "c5c8fb75-ddec-4126-e3d0-17f445fa26c1"
      },
      "source": [
        "# insert data into table\n",
        "\n",
        "conn = ps.connect(host=POSTGRES_ADDRESS,database=POSTGRES_DBNAME,user=POSTGRES_USERNAME,password=POSTGRES_PASSWORD,port=POSTGRES_PORT)\n",
        "\n",
        "cur = conn.cursor()\n",
        "\n",
        "insert_query = \"INSERT INTO cbpro_test4 (time, open, high, low, close, volume) VALUES (%s, %s, %s, %s, %s, %s)\"  \n",
        "cur.execute(insert_query, cbpro_candle)\n",
        "\n",
        "select_query = \"\"\"SELECT * FROM cbpro_test4\"\"\"\n",
        "cur.execute(select_query)\n",
        "print(cur.fetchall())\n",
        "\n",
        "conn.commit()\n",
        "cur.close()"
      ],
      "execution_count": 46,
      "outputs": [
        {
          "output_type": "stream",
          "text": [
            "[(1571072820, 187.02, 187.36, 187.02, 187.22, 247.38168252), (1571072820, 187.02, 187.36, 187.02, 187.22, 247.38168252)]\n"
          ],
          "name": "stdout"
        }
      ]
    },
    {
      "cell_type": "code",
      "metadata": {
        "id": "BdQ3oOnv5bs_",
        "colab_type": "code",
        "colab": {
          "base_uri": "https://localhost:8080/",
          "height": 153
        },
        "outputId": "c44b6058-69c4-4997-cb7b-f79d6263232d"
      },
      "source": [
        "# check data in table\n",
        "\n",
        "conn = ps.connect(host=POSTGRES_ADDRESS,database=POSTGRES_DBNAME,user=POSTGRES_USERNAME,password=POSTGRES_PASSWORD,port=POSTGRES_PORT)\n",
        "\n",
        "cur = conn.cursor()\n",
        "\n",
        "select_query = \"\"\"SELECT * FROM cbpro_test4\"\"\"\n",
        "cur.execute(select_query)\n",
        "\n",
        "for item in cur.fetchall():\n",
        "  print(item)"
      ],
      "execution_count": 15,
      "outputs": [
        {
          "output_type": "stream",
          "text": [
            "(1571072820, 187.02, 187.36, 187.02, 187.22, 247.38168252)\n",
            "(1571072820, 187.02, 187.36, 187.02, 187.22, 247.38168252)\n",
            "(123, 187.02, 187.36, 187.02, 187.22, 247.38168252)\n",
            "(6789, 187.02, 187.36, 187.02, 187.22, 247.38168252)\n",
            "(6789, 187.02, 187.36, 187.02, 187.22, 247.38168252)\n",
            "(6789, 187.02, 187.36, 187.02, 187.22, 247.38168252)\n",
            "(12345, 187.02, 187.36, 187.02, 187.22, 247.38168252)\n",
            "(1571072820, 187.02, 187.36, 187.02, 187.22, 247.38168252)\n"
          ],
          "name": "stdout"
        }
      ]
    }
  ]
}