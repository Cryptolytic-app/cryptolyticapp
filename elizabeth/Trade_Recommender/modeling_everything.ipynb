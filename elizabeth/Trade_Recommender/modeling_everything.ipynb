{
 "cells": [
  {
   "cell_type": "markdown",
   "metadata": {},
   "source": [
    "# Imports"
   ]
  },
  {
   "cell_type": "code",
   "execution_count": 11,
   "metadata": {},
   "outputs": [
    {
     "name": "stdout",
     "output_type": "stream",
     "text": [
      "Collecting pandas==0.25.1\n",
      "  Using cached https://files.pythonhosted.org/packages/39/73/99aa822ee88cef5829607217c11bf24ecc1171ae5d49d5f780085f5da518/pandas-0.25.1-cp37-cp37m-macosx_10_9_x86_64.macosx_10_10_x86_64.whl\n",
      "Requirement already satisfied: python-dateutil>=2.6.1 in /anaconda3/envs/cryptolytic/lib/python3.7/site-packages (from pandas==0.25.1) (2.8.0)\n",
      "Requirement already satisfied: pytz>=2017.2 in /anaconda3/envs/cryptolytic/lib/python3.7/site-packages (from pandas==0.25.1) (2019.3)\n",
      "Requirement already satisfied: numpy>=1.13.3 in /anaconda3/envs/cryptolytic/lib/python3.7/site-packages (from pandas==0.25.1) (1.17.2)\n",
      "Requirement already satisfied: six>=1.5 in /anaconda3/envs/cryptolytic/lib/python3.7/site-packages (from python-dateutil>=2.6.1->pandas==0.25.1) (1.12.0)\n",
      "Installing collected packages: pandas\n",
      "  Found existing installation: pandas 0.24.2\n",
      "    Uninstalling pandas-0.24.2:\n",
      "      Successfully uninstalled pandas-0.24.2\n",
      "Successfully installed pandas-0.25.1\n",
      "Note: you may need to restart the kernel to use updated packages.\n"
     ]
    }
   ],
   "source": [
    "# pip install pandas==0.25.1"
   ]
  },
  {
   "cell_type": "code",
   "execution_count": 55,
   "metadata": {},
   "outputs": [],
   "source": [
    "import glob\n",
    "import os\n",
    "import pickle\n",
    "\n",
    "import pandas as pd\n",
    "import numpy as np\n",
    "import datetime as dt\n",
    "\n",
    "from ta import add_all_ta_features\n",
    "\n",
    "from sklearn.ensemble import RandomForestClassifier\n",
    "from sklearn.linear_model import LogisticRegression\n",
    "from sklearn.model_selection import train_test_split\n",
    "from sklearn.metrics import accuracy_score\n",
    "\n",
    "from utils import feature_engineering"
   ]
  },
  {
   "cell_type": "code",
   "execution_count": 60,
   "metadata": {},
   "outputs": [
    {
     "name": "stdout",
     "output_type": "stream",
     "text": [
      "(36758, 6)\n"
     ]
    },
    {
     "data": {
      "text/html": [
       "<div>\n",
       "<style scoped>\n",
       "    .dataframe tbody tr th:only-of-type {\n",
       "        vertical-align: middle;\n",
       "    }\n",
       "\n",
       "    .dataframe tbody tr th {\n",
       "        vertical-align: top;\n",
       "    }\n",
       "\n",
       "    .dataframe thead th {\n",
       "        text-align: right;\n",
       "    }\n",
       "</style>\n",
       "<table border=\"1\" class=\"dataframe\">\n",
       "  <thead>\n",
       "    <tr style=\"text-align: right;\">\n",
       "      <th></th>\n",
       "      <th>closing_time</th>\n",
       "      <th>open</th>\n",
       "      <th>high</th>\n",
       "      <th>low</th>\n",
       "      <th>close</th>\n",
       "      <th>base_volume</th>\n",
       "    </tr>\n",
       "  </thead>\n",
       "  <tbody>\n",
       "    <tr>\n",
       "      <td>0</td>\n",
       "      <td>1569891600</td>\n",
       "      <td>8304.95</td>\n",
       "      <td>8330.00</td>\n",
       "      <td>8212.00</td>\n",
       "      <td>8222.84</td>\n",
       "      <td>528.477747</td>\n",
       "    </tr>\n",
       "    <tr>\n",
       "      <td>1</td>\n",
       "      <td>1569888000</td>\n",
       "      <td>8241.45</td>\n",
       "      <td>8313.21</td>\n",
       "      <td>8241.44</td>\n",
       "      <td>8304.96</td>\n",
       "      <td>343.075747</td>\n",
       "    </tr>\n",
       "    <tr>\n",
       "      <td>2</td>\n",
       "      <td>1569884400</td>\n",
       "      <td>8247.41</td>\n",
       "      <td>8294.55</td>\n",
       "      <td>8225.00</td>\n",
       "      <td>8243.28</td>\n",
       "      <td>364.852323</td>\n",
       "    </tr>\n",
       "    <tr>\n",
       "      <td>3</td>\n",
       "      <td>1569880800</td>\n",
       "      <td>8238.31</td>\n",
       "      <td>8265.00</td>\n",
       "      <td>8191.00</td>\n",
       "      <td>8246.94</td>\n",
       "      <td>517.086083</td>\n",
       "    </tr>\n",
       "    <tr>\n",
       "      <td>4</td>\n",
       "      <td>1569877200</td>\n",
       "      <td>8283.72</td>\n",
       "      <td>8284.00</td>\n",
       "      <td>8188.00</td>\n",
       "      <td>8238.31</td>\n",
       "      <td>566.837314</td>\n",
       "    </tr>\n",
       "  </tbody>\n",
       "</table>\n",
       "</div>"
      ],
      "text/plain": [
       "   closing_time     open     high      low    close  base_volume\n",
       "0    1569891600  8304.95  8330.00  8212.00  8222.84   528.477747\n",
       "1    1569888000  8241.45  8313.21  8241.44  8304.96   343.075747\n",
       "2    1569884400  8247.41  8294.55  8225.00  8243.28   364.852323\n",
       "3    1569880800  8238.31  8265.00  8191.00  8246.94   517.086083\n",
       "4    1569877200  8283.72  8284.00  8188.00  8238.31   566.837314"
      ]
     },
     "execution_count": 60,
     "metadata": {},
     "output_type": "execute_result"
    }
   ],
   "source": [
    "# import csv\n",
    "path = 'data/coinbase_pro_btc_usd_3600.csv'\n",
    "df = pd.read_csv(path, index_col=0)\n",
    "\n",
    "print(df.shape)\n",
    "df.head()"
   ]
  },
  {
   "cell_type": "markdown",
   "metadata": {},
   "source": [
    "### Get all csv filenames into a variable"
   ]
  },
  {
   "cell_type": "code",
   "execution_count": 64,
   "metadata": {},
   "outputs": [
    {
     "data": {
      "text/plain": [
       "9"
      ]
     },
     "execution_count": 64,
     "metadata": {},
     "output_type": "execute_result"
    }
   ],
   "source": [
    "csv_filenames = glob.glob('data/*.csv') # modify to your filepath for data\n",
    "len(csv_filenames)"
   ]
  },
  {
   "cell_type": "code",
   "execution_count": 48,
   "metadata": {},
   "outputs": [],
   "source": [
    "# # using the first 5 for testing\n",
    "# csv_filenames = csv_filenames[:5]"
   ]
  },
  {
   "cell_type": "markdown",
   "metadata": {},
   "source": [
    "## Functions"
   ]
  },
  {
   "cell_type": "markdown",
   "metadata": {},
   "source": [
    "#### Feature Engineering"
   ]
  },
  {
   "cell_type": "code",
   "execution_count": 85,
   "metadata": {},
   "outputs": [],
   "source": [
    "def feature_engineering(df):\n",
    "    \"\"\"Takes in a dataframe of 5 minute cryptocurrency trading data\n",
    "        and returns a new dataframe with 1 hour data and new technical analysis features:\n",
    "    \"\"\"\n",
    "    \n",
    "    # Add a datetime column to df\n",
    "    df['date'] = pd.to_datetime(df['closing_time'], unit='s')\n",
    "     \n",
    "    # Convert df to one hour candles\n",
    "    period = '60T'\n",
    "    df = change_ohlcv_time(df, period)\n",
    "    \n",
    "    # Add feature to indicate user inactivity.\n",
    "    df['nan_ohlc'] = df['close'].apply(lambda x: 1 if pd.isnull(x) else 0)\n",
    "    \n",
    "    # Fill in missing values using fill function.\n",
    "    df = fill_nan(df)\n",
    "    \n",
    "    # Reset index.\n",
    "    df = df.reset_index()\n",
    "    \n",
    "    # Create additional date features.\n",
    "    df['year'] = df['date'].dt.year\n",
    "    df['month'] = df['date'].dt.month\n",
    "    df['day'] = df['date'].dt.day\n",
    "    \n",
    "    # Add technical analysis features.\n",
    "    df = add_all_ta_features(df, \"open\", \"high\", \"low\", \"close\", \"base_volume\")\n",
    "      \n",
    "    # Replace infinite values with NaNs.\n",
    "    df = df.replace([np.inf, -np.inf], np.nan)\n",
    "    \n",
    "    # Drop any features whose mean of missing values is greater than 20%.\n",
    "    df = df[df.columns[df.isnull().mean() < .2]]\n",
    "    \n",
    "    # Replace remaining NaN values with the mean of each respective column and reset index.\n",
    "    df = df.apply(lambda x: x.fillna(x.mean()),axis=0)\n",
    "    \n",
    "    # Create a feature for close price difference \n",
    "    df['close_diff'] = (df['close'] - df['close'].shift(1))/df['close'].shift(1)    \n",
    "    \n",
    "    # Function to create target\n",
    "    def price_increase(x):\n",
    "        if (x-(.70/100)) > 0:\n",
    "            return True\n",
    "        else:\n",
    "            return False\n",
    "    \n",
    "    # Create target\n",
    "    target = df['close_diff'].apply(price_increase)\n",
    "    \n",
    "    # To make the prediction before it happens, put target on the next observation\n",
    "    target = target[1:].values\n",
    "    df = df[:-1]\n",
    "    \n",
    "    # Create target column\n",
    "    df['target'] = target\n",
    "    \n",
    "    # Remove first row of dataframe bc it has a null target\n",
    "    df = df[1:]\n",
    "    \n",
    "    # Pick features\n",
    "    features = ['open', 'high', 'low', 'close', 'base_volume', 'nan_ohlc', \n",
    "                'year', 'month', 'day', 'volume_adi', 'volume_obv', 'volume_cmf', \n",
    "                'volume_fi', 'volume_em', 'volume_vpt', 'volume_nvi', 'volatility_atr', \n",
    "                'volatility_bbh', 'volatility_bbl', 'volatility_bbm', 'volatility_bbhi', \n",
    "                'volatility_bbli', 'volatility_kcc', 'volatility_kch', 'volatility_kcl', \n",
    "                'volatility_kchi', 'volatility_kcli', 'volatility_dch', 'volatility_dcl', \n",
    "                'volatility_dchi', 'volatility_dcli', 'trend_macd', 'trend_macd_signal', \n",
    "                'trend_macd_diff', 'trend_ema_fast', 'trend_ema_slow', \n",
    "                'trend_adx_pos', 'trend_adx_neg', 'trend_vortex_ind_pos', \n",
    "                'trend_vortex_ind_neg', 'trend_vortex_diff', 'trend_trix', \n",
    "                'trend_mass_index', 'trend_cci', 'trend_dpo', 'trend_kst', \n",
    "                'trend_kst_sig', 'trend_kst_diff', 'trend_ichimoku_a', \n",
    "                'trend_ichimoku_b', 'trend_visual_ichimoku_a', 'trend_visual_ichimoku_b', \n",
    "                'trend_aroon_up', 'trend_aroon_down', 'trend_aroon_ind', 'momentum_rsi', \n",
    "                'momentum_mfi', 'momentum_tsi', 'momentum_uo', 'momentum_stoch', \n",
    "                'momentum_stoch_signal', 'momentum_wr', 'momentum_ao',  \n",
    "                'others_dr', 'others_dlr', 'others_cr', 'close_diff', 'date', 'target']\n",
    "    df = df[features]\n",
    "    \n",
    "    return df"
   ]
  },
  {
   "cell_type": "markdown",
   "metadata": {},
   "source": [
    "#### Change OHLCV time period"
   ]
  },
  {
   "cell_type": "code",
   "execution_count": 86,
   "metadata": {},
   "outputs": [],
   "source": [
    "def change_ohlcv_time(df, period):\n",
    "    \"\"\" Changes the time period on cryptocurrency ohlcv data.\n",
    "        Period is a string denoted by 'time_in_minutesT'(ex: '1T', '5T', '60T').\"\"\"\n",
    "\n",
    "    # Set date as the index. This is needed for the function to run\n",
    "    df = df.set_index(['date'])\n",
    "\n",
    "    # Aggregation function\n",
    "    ohlc_dict = {                                                                                                             \n",
    "    'open':'first',                                                                                                    \n",
    "    'high':'max',                                                                                                       \n",
    "    'low':'min',                                                                                                        \n",
    "    'close': 'last',                                                                                                    \n",
    "    'base_volume': 'sum'\n",
    "    }\n",
    "\n",
    "    # Apply resampling.\n",
    "    df = df.resample(period, how=ohlc_dict, closed='left', label='left')\n",
    "    \n",
    "    return df"
   ]
  },
  {
   "cell_type": "markdown",
   "metadata": {},
   "source": [
    "#### Fill NaNs"
   ]
  },
  {
   "cell_type": "code",
   "execution_count": 87,
   "metadata": {},
   "outputs": [],
   "source": [
    "def fill_nan(df):\n",
    "  \n",
    "    '''Iterates through a dataframe and fills NaNs with appropriate open, high, low, close values.'''\n",
    "\n",
    "    # Forward fill close column.\n",
    "    df['close'] = df['close'].ffill()\n",
    "\n",
    "    # Backward fill the open, high, low rows with the close value.\n",
    "    df = df.bfill(axis=1)\n",
    "\n",
    "    return df"
   ]
  },
  {
   "cell_type": "markdown",
   "metadata": {},
   "source": [
    "### Modeling Pipeline"
   ]
  },
  {
   "cell_type": "code",
   "execution_count": 88,
   "metadata": {},
   "outputs": [
    {
     "name": "stdout",
     "output_type": "stream",
     "text": [
      "bitfinex_ltc_usd\n"
     ]
    },
    {
     "name": "stderr",
     "output_type": "stream",
     "text": [
      "//anaconda3/envs/cryptolytic/lib/python3.7/site-packages/ipykernel_launcher.py:18: FutureWarning: how in .resample() is deprecated\n",
      "the new syntax is .resample(...)..apply(<func>)\n"
     ]
    },
    {
     "name": "stdout",
     "output_type": "stream",
     "text": [
      "train and test shape (bitfinex_ltc_usd): (36379, 69) (5809, 69)\n",
      "['open', 'high', 'low', 'close', 'base_volume', 'nan_ohlc', 'year', 'month', 'day', 'volume_adi', 'volume_obv', 'volume_cmf', 'volume_fi', 'volume_em', 'volume_vpt', 'volume_nvi', 'volatility_atr', 'volatility_bbh', 'volatility_bbl', 'volatility_bbm', 'volatility_bbhi', 'volatility_bbli', 'volatility_kcc', 'volatility_kch', 'volatility_kcl', 'volatility_kchi', 'volatility_kcli', 'volatility_dch', 'volatility_dcl', 'volatility_dchi', 'volatility_dcli', 'trend_macd', 'trend_macd_signal', 'trend_macd_diff', 'trend_ema_fast', 'trend_ema_slow', 'trend_adx_pos', 'trend_adx_neg', 'trend_vortex_ind_pos', 'trend_vortex_ind_neg', 'trend_vortex_diff', 'trend_trix', 'trend_mass_index', 'trend_cci', 'trend_dpo', 'trend_kst', 'trend_kst_sig', 'trend_kst_diff', 'trend_ichimoku_a', 'trend_ichimoku_b', 'trend_visual_ichimoku_a', 'trend_visual_ichimoku_b', 'trend_aroon_up', 'trend_aroon_down', 'trend_aroon_ind', 'momentum_rsi', 'momentum_mfi', 'momentum_tsi', 'momentum_uo', 'momentum_stoch', 'momentum_stoch_signal', 'momentum_wr', 'momentum_ao', 'others_dr', 'others_dlr', 'others_cr', 'close_diff']\n",
      "model fitted\n",
      "train accuracy: 1.0\n",
      "predictions made\n",
      "test accuracy: 0.8376656911688759\n",
      "RandomForestClassifier(bootstrap=True, class_weight=None, criterion='gini',\n",
      "                       max_depth=50, max_features='auto', max_leaf_nodes=None,\n",
      "                       min_impurity_decrease=0.0, min_impurity_split=None,\n",
      "                       min_samples_leaf=1, min_samples_split=2,\n",
      "                       min_weight_fraction_leaf=0.0, n_estimators=100,\n",
      "                       n_jobs=-1, oob_score=False, random_state=42, verbose=0,\n",
      "                       warm_start=False) pickle saved!\n",
      "bitfinex_btc_usd\n"
     ]
    },
    {
     "name": "stderr",
     "output_type": "stream",
     "text": [
      "//anaconda3/envs/cryptolytic/lib/python3.7/site-packages/ipykernel_launcher.py:18: FutureWarning: how in .resample() is deprecated\n",
      "the new syntax is .resample(...)..apply(<func>)\n",
      "//anaconda3/envs/cryptolytic/lib/python3.7/site-packages/ta/trend.py:170: RuntimeWarning: invalid value encountered in double_scalars\n",
      "  dip[i] = 100 * (dip_mio[i]/trs[i])\n",
      "//anaconda3/envs/cryptolytic/lib/python3.7/site-packages/ta/trend.py:174: RuntimeWarning: invalid value encountered in double_scalars\n",
      "  din[i] = 100 * (din_mio[i]/trs[i])\n"
     ]
    },
    {
     "name": "stdout",
     "output_type": "stream",
     "text": [
      "train and test shape (bitfinex_btc_usd): (36236, 69) (5809, 69)\n",
      "['open', 'high', 'low', 'close', 'base_volume', 'nan_ohlc', 'year', 'month', 'day', 'volume_adi', 'volume_obv', 'volume_cmf', 'volume_fi', 'volume_em', 'volume_vpt', 'volume_nvi', 'volatility_atr', 'volatility_bbh', 'volatility_bbl', 'volatility_bbm', 'volatility_bbhi', 'volatility_bbli', 'volatility_kcc', 'volatility_kch', 'volatility_kcl', 'volatility_kchi', 'volatility_kcli', 'volatility_dch', 'volatility_dcl', 'volatility_dchi', 'volatility_dcli', 'trend_macd', 'trend_macd_signal', 'trend_macd_diff', 'trend_ema_fast', 'trend_ema_slow', 'trend_adx_pos', 'trend_adx_neg', 'trend_vortex_ind_pos', 'trend_vortex_ind_neg', 'trend_vortex_diff', 'trend_trix', 'trend_mass_index', 'trend_cci', 'trend_dpo', 'trend_kst', 'trend_kst_sig', 'trend_kst_diff', 'trend_ichimoku_a', 'trend_ichimoku_b', 'trend_visual_ichimoku_a', 'trend_visual_ichimoku_b', 'trend_aroon_up', 'trend_aroon_down', 'trend_aroon_ind', 'momentum_rsi', 'momentum_mfi', 'momentum_tsi', 'momentum_uo', 'momentum_stoch', 'momentum_stoch_signal', 'momentum_wr', 'momentum_ao', 'others_dr', 'others_dlr', 'others_cr', 'close_diff']\n",
      "model fitted\n",
      "train accuracy: 0.9999448062700077\n",
      "predictions made\n",
      "test accuracy: 0.8987777586503701\n",
      "RandomForestClassifier(bootstrap=True, class_weight=None, criterion='gini',\n",
      "                       max_depth=50, max_features='auto', max_leaf_nodes=None,\n",
      "                       min_impurity_decrease=0.0, min_impurity_split=None,\n",
      "                       min_samples_leaf=1, min_samples_split=2,\n",
      "                       min_weight_fraction_leaf=0.0, n_estimators=100,\n",
      "                       n_jobs=-1, oob_score=False, random_state=42, verbose=0,\n",
      "                       warm_start=False) pickle saved!\n",
      "coinbase_pro_eth_usd\n"
     ]
    },
    {
     "name": "stderr",
     "output_type": "stream",
     "text": [
      "//anaconda3/envs/cryptolytic/lib/python3.7/site-packages/ipykernel_launcher.py:18: FutureWarning: how in .resample() is deprecated\n",
      "the new syntax is .resample(...)..apply(<func>)\n",
      "//anaconda3/envs/cryptolytic/lib/python3.7/site-packages/ta/trend.py:170: RuntimeWarning: invalid value encountered in double_scalars\n",
      "  dip[i] = 100 * (dip_mio[i]/trs[i])\n",
      "//anaconda3/envs/cryptolytic/lib/python3.7/site-packages/ta/trend.py:174: RuntimeWarning: invalid value encountered in double_scalars\n",
      "  din[i] = 100 * (din_mio[i]/trs[i])\n",
      "//anaconda3/envs/cryptolytic/lib/python3.7/site-packages/ta/trend.py:176: RuntimeWarning: divide by zero encountered in true_divide\n",
      "  dx = 100 * np.abs((dip - din) / (dip + din))\n",
      "//anaconda3/envs/cryptolytic/lib/python3.7/site-packages/ta/trend.py:176: RuntimeWarning: invalid value encountered in true_divide\n",
      "  dx = 100 * np.abs((dip - din) / (dip + din))\n"
     ]
    },
    {
     "name": "stdout",
     "output_type": "stream",
     "text": [
      "train and test shape (coinbase_pro_eth_usd): (20781, 69) (5809, 69)\n",
      "['open', 'high', 'low', 'close', 'base_volume', 'nan_ohlc', 'year', 'month', 'day', 'volume_adi', 'volume_obv', 'volume_cmf', 'volume_fi', 'volume_em', 'volume_vpt', 'volume_nvi', 'volatility_atr', 'volatility_bbh', 'volatility_bbl', 'volatility_bbm', 'volatility_bbhi', 'volatility_bbli', 'volatility_kcc', 'volatility_kch', 'volatility_kcl', 'volatility_kchi', 'volatility_kcli', 'volatility_dch', 'volatility_dcl', 'volatility_dchi', 'volatility_dcli', 'trend_macd', 'trend_macd_signal', 'trend_macd_diff', 'trend_ema_fast', 'trend_ema_slow', 'trend_adx_pos', 'trend_adx_neg', 'trend_vortex_ind_pos', 'trend_vortex_ind_neg', 'trend_vortex_diff', 'trend_trix', 'trend_mass_index', 'trend_cci', 'trend_dpo', 'trend_kst', 'trend_kst_sig', 'trend_kst_diff', 'trend_ichimoku_a', 'trend_ichimoku_b', 'trend_visual_ichimoku_a', 'trend_visual_ichimoku_b', 'trend_aroon_up', 'trend_aroon_down', 'trend_aroon_ind', 'momentum_rsi', 'momentum_mfi', 'momentum_tsi', 'momentum_uo', 'momentum_stoch', 'momentum_stoch_signal', 'momentum_wr', 'momentum_ao', 'others_dr', 'others_dlr', 'others_cr', 'close_diff']\n",
      "model fitted\n",
      "train accuracy: 1.0\n",
      "predictions made\n",
      "test accuracy: 0.8665863315544844\n",
      "RandomForestClassifier(bootstrap=True, class_weight=None, criterion='gini',\n",
      "                       max_depth=50, max_features='auto', max_leaf_nodes=None,\n",
      "                       min_impurity_decrease=0.0, min_impurity_split=None,\n",
      "                       min_samples_leaf=1, min_samples_split=2,\n",
      "                       min_weight_fraction_leaf=0.0, n_estimators=100,\n",
      "                       n_jobs=-1, oob_score=False, random_state=42, verbose=0,\n",
      "                       warm_start=False) pickle saved!\n",
      "coinbase_pro_ltc_usd\n"
     ]
    },
    {
     "name": "stderr",
     "output_type": "stream",
     "text": [
      "//anaconda3/envs/cryptolytic/lib/python3.7/site-packages/ipykernel_launcher.py:18: FutureWarning: how in .resample() is deprecated\n",
      "the new syntax is .resample(...)..apply(<func>)\n",
      "//anaconda3/envs/cryptolytic/lib/python3.7/site-packages/ta/trend.py:170: RuntimeWarning: invalid value encountered in double_scalars\n",
      "  dip[i] = 100 * (dip_mio[i]/trs[i])\n",
      "//anaconda3/envs/cryptolytic/lib/python3.7/site-packages/ta/trend.py:174: RuntimeWarning: invalid value encountered in double_scalars\n",
      "  din[i] = 100 * (din_mio[i]/trs[i])\n",
      "//anaconda3/envs/cryptolytic/lib/python3.7/site-packages/ta/trend.py:245: RuntimeWarning: invalid value encountered in double_scalars\n",
      "  dip[i+n] = 100 * (dip_mio[i]/trs[i])\n",
      "//anaconda3/envs/cryptolytic/lib/python3.7/site-packages/ta/trend.py:307: RuntimeWarning: invalid value encountered in double_scalars\n",
      "  din[i+n] = 100 * (din_mio[i]/float(trs[i]))\n"
     ]
    },
    {
     "name": "stdout",
     "output_type": "stream",
     "text": [
      "train and test shape (coinbase_pro_ltc_usd): (18593, 69) (5809, 69)\n",
      "['open', 'high', 'low', 'close', 'base_volume', 'nan_ohlc', 'year', 'month', 'day', 'volume_adi', 'volume_obv', 'volume_cmf', 'volume_fi', 'volume_em', 'volume_vpt', 'volume_nvi', 'volatility_atr', 'volatility_bbh', 'volatility_bbl', 'volatility_bbm', 'volatility_bbhi', 'volatility_bbli', 'volatility_kcc', 'volatility_kch', 'volatility_kcl', 'volatility_kchi', 'volatility_kcli', 'volatility_dch', 'volatility_dcl', 'volatility_dchi', 'volatility_dcli', 'trend_macd', 'trend_macd_signal', 'trend_macd_diff', 'trend_ema_fast', 'trend_ema_slow', 'trend_adx_pos', 'trend_adx_neg', 'trend_vortex_ind_pos', 'trend_vortex_ind_neg', 'trend_vortex_diff', 'trend_trix', 'trend_mass_index', 'trend_cci', 'trend_dpo', 'trend_kst', 'trend_kst_sig', 'trend_kst_diff', 'trend_ichimoku_a', 'trend_ichimoku_b', 'trend_visual_ichimoku_a', 'trend_visual_ichimoku_b', 'trend_aroon_up', 'trend_aroon_down', 'trend_aroon_ind', 'momentum_rsi', 'momentum_mfi', 'momentum_tsi', 'momentum_uo', 'momentum_stoch', 'momentum_stoch_signal', 'momentum_wr', 'momentum_ao', 'others_dr', 'others_dlr', 'others_cr', 'close_diff']\n",
      "model fitted\n",
      "train accuracy: 1.0\n",
      "predictions made\n",
      "test accuracy: 0.8325012911000172\n",
      "RandomForestClassifier(bootstrap=True, class_weight=None, criterion='gini',\n",
      "                       max_depth=50, max_features='auto', max_leaf_nodes=None,\n",
      "                       min_impurity_decrease=0.0, min_impurity_split=None,\n",
      "                       min_samples_leaf=1, min_samples_split=2,\n",
      "                       min_weight_fraction_leaf=0.0, n_estimators=100,\n",
      "                       n_jobs=-1, oob_score=False, random_state=42, verbose=0,\n",
      "                       warm_start=False) pickle saved!\n",
      "hitbtc_eth_usdt\n"
     ]
    },
    {
     "name": "stderr",
     "output_type": "stream",
     "text": [
      "//anaconda3/envs/cryptolytic/lib/python3.7/site-packages/ipykernel_launcher.py:18: FutureWarning: how in .resample() is deprecated\n",
      "the new syntax is .resample(...)..apply(<func>)\n",
      "//anaconda3/envs/cryptolytic/lib/python3.7/site-packages/ta/trend.py:170: RuntimeWarning: invalid value encountered in double_scalars\n",
      "  dip[i] = 100 * (dip_mio[i]/trs[i])\n",
      "//anaconda3/envs/cryptolytic/lib/python3.7/site-packages/ta/trend.py:174: RuntimeWarning: invalid value encountered in double_scalars\n",
      "  din[i] = 100 * (din_mio[i]/trs[i])\n"
     ]
    },
    {
     "name": "stdout",
     "output_type": "stream",
     "text": [
      "train and test shape (hitbtc_eth_usdt): (12318, 69) (5809, 69)\n",
      "['open', 'high', 'low', 'close', 'base_volume', 'nan_ohlc', 'year', 'month', 'day', 'volume_adi', 'volume_obv', 'volume_cmf', 'volume_fi', 'volume_em', 'volume_vpt', 'volume_nvi', 'volatility_atr', 'volatility_bbh', 'volatility_bbl', 'volatility_bbm', 'volatility_bbhi', 'volatility_bbli', 'volatility_kcc', 'volatility_kch', 'volatility_kcl', 'volatility_kchi', 'volatility_kcli', 'volatility_dch', 'volatility_dcl', 'volatility_dchi', 'volatility_dcli', 'trend_macd', 'trend_macd_signal', 'trend_macd_diff', 'trend_ema_fast', 'trend_ema_slow', 'trend_adx_pos', 'trend_adx_neg', 'trend_vortex_ind_pos', 'trend_vortex_ind_neg', 'trend_vortex_diff', 'trend_trix', 'trend_mass_index', 'trend_cci', 'trend_dpo', 'trend_kst', 'trend_kst_sig', 'trend_kst_diff', 'trend_ichimoku_a', 'trend_ichimoku_b', 'trend_visual_ichimoku_a', 'trend_visual_ichimoku_b', 'trend_aroon_up', 'trend_aroon_down', 'trend_aroon_ind', 'momentum_rsi', 'momentum_mfi', 'momentum_tsi', 'momentum_uo', 'momentum_stoch', 'momentum_stoch_signal', 'momentum_wr', 'momentum_ao', 'others_dr', 'others_dlr', 'others_cr', 'close_diff']\n",
      "model fitted\n",
      "train accuracy: 0.9999188179899334\n",
      "predictions made\n",
      "test accuracy: 0.8431743845756584\n",
      "RandomForestClassifier(bootstrap=True, class_weight=None, criterion='gini',\n",
      "                       max_depth=50, max_features='auto', max_leaf_nodes=None,\n",
      "                       min_impurity_decrease=0.0, min_impurity_split=None,\n",
      "                       min_samples_leaf=1, min_samples_split=2,\n",
      "                       min_weight_fraction_leaf=0.0, n_estimators=100,\n",
      "                       n_jobs=-1, oob_score=False, random_state=42, verbose=0,\n",
      "                       warm_start=False) pickle saved!\n",
      "bitfinex_eth_usd\n"
     ]
    },
    {
     "name": "stderr",
     "output_type": "stream",
     "text": [
      "//anaconda3/envs/cryptolytic/lib/python3.7/site-packages/ipykernel_launcher.py:18: FutureWarning: how in .resample() is deprecated\n",
      "the new syntax is .resample(...)..apply(<func>)\n",
      "//anaconda3/envs/cryptolytic/lib/python3.7/site-packages/ta/trend.py:170: RuntimeWarning: invalid value encountered in double_scalars\n",
      "  dip[i] = 100 * (dip_mio[i]/trs[i])\n",
      "//anaconda3/envs/cryptolytic/lib/python3.7/site-packages/ta/trend.py:174: RuntimeWarning: invalid value encountered in double_scalars\n",
      "  din[i] = 100 * (din_mio[i]/trs[i])\n"
     ]
    },
    {
     "name": "stdout",
     "output_type": "stream",
     "text": [
      "train and test shape (bitfinex_eth_usd): (22445, 69) (5809, 69)\n",
      "['open', 'high', 'low', 'close', 'base_volume', 'nan_ohlc', 'year', 'month', 'day', 'volume_adi', 'volume_obv', 'volume_cmf', 'volume_fi', 'volume_em', 'volume_vpt', 'volume_nvi', 'volatility_atr', 'volatility_bbh', 'volatility_bbl', 'volatility_bbm', 'volatility_bbhi', 'volatility_bbli', 'volatility_kcc', 'volatility_kch', 'volatility_kcl', 'volatility_kchi', 'volatility_kcli', 'volatility_dch', 'volatility_dcl', 'volatility_dchi', 'volatility_dcli', 'trend_macd', 'trend_macd_signal', 'trend_macd_diff', 'trend_ema_fast', 'trend_ema_slow', 'trend_adx_pos', 'trend_adx_neg', 'trend_vortex_ind_pos', 'trend_vortex_ind_neg', 'trend_vortex_diff', 'trend_trix', 'trend_mass_index', 'trend_cci', 'trend_dpo', 'trend_kst', 'trend_kst_sig', 'trend_kst_diff', 'trend_ichimoku_a', 'trend_ichimoku_b', 'trend_visual_ichimoku_a', 'trend_visual_ichimoku_b', 'trend_aroon_up', 'trend_aroon_down', 'trend_aroon_ind', 'momentum_rsi', 'momentum_mfi', 'momentum_tsi', 'momentum_uo', 'momentum_stoch', 'momentum_stoch_signal', 'momentum_wr', 'momentum_ao', 'others_dr', 'others_dlr', 'others_cr', 'close_diff']\n",
      "model fitted\n",
      "train accuracy: 1.0\n",
      "predictions made\n",
      "test accuracy: 0.8671027715613703\n",
      "RandomForestClassifier(bootstrap=True, class_weight=None, criterion='gini',\n",
      "                       max_depth=50, max_features='auto', max_leaf_nodes=None,\n",
      "                       min_impurity_decrease=0.0, min_impurity_split=None,\n",
      "                       min_samples_leaf=1, min_samples_split=2,\n",
      "                       min_weight_fraction_leaf=0.0, n_estimators=100,\n",
      "                       n_jobs=-1, oob_score=False, random_state=42, verbose=0,\n",
      "                       warm_start=False) pickle saved!\n",
      "coinbase_pro_btc_usd\n"
     ]
    },
    {
     "name": "stderr",
     "output_type": "stream",
     "text": [
      "//anaconda3/envs/cryptolytic/lib/python3.7/site-packages/ipykernel_launcher.py:18: FutureWarning: how in .resample() is deprecated\n",
      "the new syntax is .resample(...)..apply(<func>)\n",
      "//anaconda3/envs/cryptolytic/lib/python3.7/site-packages/ta/trend.py:170: RuntimeWarning: invalid value encountered in double_scalars\n",
      "  dip[i] = 100 * (dip_mio[i]/trs[i])\n",
      "//anaconda3/envs/cryptolytic/lib/python3.7/site-packages/ta/trend.py:174: RuntimeWarning: invalid value encountered in double_scalars\n",
      "  din[i] = 100 * (din_mio[i]/trs[i])\n"
     ]
    },
    {
     "name": "stdout",
     "output_type": "stream",
     "text": [
      "train and test shape (coinbase_pro_btc_usd): (28032, 69) (5809, 69)\n",
      "['open', 'high', 'low', 'close', 'base_volume', 'nan_ohlc', 'year', 'month', 'day', 'volume_adi', 'volume_obv', 'volume_cmf', 'volume_fi', 'volume_em', 'volume_vpt', 'volume_nvi', 'volatility_atr', 'volatility_bbh', 'volatility_bbl', 'volatility_bbm', 'volatility_bbhi', 'volatility_bbli', 'volatility_kcc', 'volatility_kch', 'volatility_kcl', 'volatility_kchi', 'volatility_kcli', 'volatility_dch', 'volatility_dcl', 'volatility_dchi', 'volatility_dcli', 'trend_macd', 'trend_macd_signal', 'trend_macd_diff', 'trend_ema_fast', 'trend_ema_slow', 'trend_adx_pos', 'trend_adx_neg', 'trend_vortex_ind_pos', 'trend_vortex_ind_neg', 'trend_vortex_diff', 'trend_trix', 'trend_mass_index', 'trend_cci', 'trend_dpo', 'trend_kst', 'trend_kst_sig', 'trend_kst_diff', 'trend_ichimoku_a', 'trend_ichimoku_b', 'trend_visual_ichimoku_a', 'trend_visual_ichimoku_b', 'trend_aroon_up', 'trend_aroon_down', 'trend_aroon_ind', 'momentum_rsi', 'momentum_mfi', 'momentum_tsi', 'momentum_uo', 'momentum_stoch', 'momentum_stoch_signal', 'momentum_wr', 'momentum_ao', 'others_dr', 'others_dlr', 'others_cr', 'close_diff']\n",
      "model fitted\n",
      "train accuracy: 0.9999286529680366\n",
      "predictions made\n",
      "test accuracy: 0.8822516784300224\n",
      "RandomForestClassifier(bootstrap=True, class_weight=None, criterion='gini',\n",
      "                       max_depth=50, max_features='auto', max_leaf_nodes=None,\n",
      "                       min_impurity_decrease=0.0, min_impurity_split=None,\n",
      "                       min_samples_leaf=1, min_samples_split=2,\n",
      "                       min_weight_fraction_leaf=0.0, n_estimators=100,\n",
      "                       n_jobs=-1, oob_score=False, random_state=42, verbose=0,\n",
      "                       warm_start=False) pickle saved!\n",
      "hitbtc_ltc_usdt\n"
     ]
    },
    {
     "name": "stderr",
     "output_type": "stream",
     "text": [
      "//anaconda3/envs/cryptolytic/lib/python3.7/site-packages/ipykernel_launcher.py:18: FutureWarning: how in .resample() is deprecated\n",
      "the new syntax is .resample(...)..apply(<func>)\n",
      "//anaconda3/envs/cryptolytic/lib/python3.7/site-packages/ta/trend.py:170: RuntimeWarning: invalid value encountered in double_scalars\n",
      "  dip[i] = 100 * (dip_mio[i]/trs[i])\n",
      "//anaconda3/envs/cryptolytic/lib/python3.7/site-packages/ta/trend.py:174: RuntimeWarning: invalid value encountered in double_scalars\n",
      "  din[i] = 100 * (din_mio[i]/trs[i])\n"
     ]
    },
    {
     "name": "stdout",
     "output_type": "stream",
     "text": [
      "train and test shape (hitbtc_ltc_usdt): (33236, 69) (5809, 69)\n",
      "['open', 'high', 'low', 'close', 'base_volume', 'nan_ohlc', 'year', 'month', 'day', 'volume_adi', 'volume_obv', 'volume_cmf', 'volume_fi', 'volume_em', 'volume_vpt', 'volume_nvi', 'volatility_atr', 'volatility_bbh', 'volatility_bbl', 'volatility_bbm', 'volatility_bbhi', 'volatility_bbli', 'volatility_kcc', 'volatility_kch', 'volatility_kcl', 'volatility_kchi', 'volatility_kcli', 'volatility_dch', 'volatility_dcl', 'volatility_dchi', 'volatility_dcli', 'trend_macd', 'trend_macd_signal', 'trend_macd_diff', 'trend_ema_fast', 'trend_ema_slow', 'trend_adx_pos', 'trend_adx_neg', 'trend_vortex_ind_pos', 'trend_vortex_ind_neg', 'trend_vortex_diff', 'trend_trix', 'trend_mass_index', 'trend_cci', 'trend_dpo', 'trend_kst', 'trend_kst_sig', 'trend_kst_diff', 'trend_ichimoku_a', 'trend_ichimoku_b', 'trend_visual_ichimoku_a', 'trend_visual_ichimoku_b', 'trend_aroon_up', 'trend_aroon_down', 'trend_aroon_ind', 'momentum_rsi', 'momentum_mfi', 'momentum_tsi', 'momentum_uo', 'momentum_stoch', 'momentum_stoch_signal', 'momentum_wr', 'momentum_ao', 'others_dr', 'others_dlr', 'others_cr', 'close_diff']\n",
      "model fitted\n",
      "train accuracy: 0.9999398242869179\n",
      "predictions made\n",
      "test accuracy: 0.8364606644861422\n",
      "RandomForestClassifier(bootstrap=True, class_weight=None, criterion='gini',\n",
      "                       max_depth=50, max_features='auto', max_leaf_nodes=None,\n",
      "                       min_impurity_decrease=0.0, min_impurity_split=None,\n",
      "                       min_samples_leaf=1, min_samples_split=2,\n",
      "                       min_weight_fraction_leaf=0.0, n_estimators=100,\n",
      "                       n_jobs=-1, oob_score=False, random_state=42, verbose=0,\n",
      "                       warm_start=False) pickle saved!\n",
      "hitbtc_btc_usdt\n"
     ]
    },
    {
     "name": "stderr",
     "output_type": "stream",
     "text": [
      "//anaconda3/envs/cryptolytic/lib/python3.7/site-packages/ipykernel_launcher.py:18: FutureWarning: how in .resample() is deprecated\n",
      "the new syntax is .resample(...)..apply(<func>)\n",
      "//anaconda3/envs/cryptolytic/lib/python3.7/site-packages/ta/trend.py:170: RuntimeWarning: invalid value encountered in double_scalars\n",
      "  dip[i] = 100 * (dip_mio[i]/trs[i])\n",
      "//anaconda3/envs/cryptolytic/lib/python3.7/site-packages/ta/trend.py:174: RuntimeWarning: invalid value encountered in double_scalars\n",
      "  din[i] = 100 * (din_mio[i]/trs[i])\n"
     ]
    },
    {
     "name": "stdout",
     "output_type": "stream",
     "text": [
      "train and test shape (hitbtc_btc_usdt): (33236, 69) (5809, 69)\n",
      "['open', 'high', 'low', 'close', 'base_volume', 'nan_ohlc', 'year', 'month', 'day', 'volume_adi', 'volume_obv', 'volume_cmf', 'volume_fi', 'volume_em', 'volume_vpt', 'volume_nvi', 'volatility_atr', 'volatility_bbh', 'volatility_bbl', 'volatility_bbm', 'volatility_bbhi', 'volatility_bbli', 'volatility_kcc', 'volatility_kch', 'volatility_kcl', 'volatility_kchi', 'volatility_kcli', 'volatility_dch', 'volatility_dcl', 'volatility_dchi', 'volatility_dcli', 'trend_macd', 'trend_macd_signal', 'trend_macd_diff', 'trend_ema_fast', 'trend_ema_slow', 'trend_adx_pos', 'trend_adx_neg', 'trend_vortex_ind_pos', 'trend_vortex_ind_neg', 'trend_vortex_diff', 'trend_trix', 'trend_mass_index', 'trend_cci', 'trend_dpo', 'trend_kst', 'trend_kst_sig', 'trend_kst_diff', 'trend_ichimoku_a', 'trend_ichimoku_b', 'trend_visual_ichimoku_a', 'trend_visual_ichimoku_b', 'trend_aroon_up', 'trend_aroon_down', 'trend_aroon_ind', 'momentum_rsi', 'momentum_mfi', 'momentum_tsi', 'momentum_uo', 'momentum_stoch', 'momentum_stoch_signal', 'momentum_wr', 'momentum_ao', 'others_dr', 'others_dlr', 'others_cr', 'close_diff']\n",
      "model fitted\n",
      "train accuracy: 1.0\n",
      "predictions made\n",
      "test accuracy: 0.8968841452917886\n",
      "RandomForestClassifier(bootstrap=True, class_weight=None, criterion='gini',\n",
      "                       max_depth=50, max_features='auto', max_leaf_nodes=None,\n",
      "                       min_impurity_decrease=0.0, min_impurity_split=None,\n",
      "                       min_samples_leaf=1, min_samples_split=2,\n",
      "                       min_weight_fraction_leaf=0.0, n_estimators=100,\n",
      "                       n_jobs=-1, oob_score=False, random_state=42, verbose=0,\n",
      "                       warm_start=False) pickle saved!\n"
     ]
    }
   ],
   "source": [
    "def pipeline(csv_filenames):\n",
    "    \n",
    "    for file in csv_filenames:\n",
    "        \n",
    "        # define model name \n",
    "        name = file.split('/')[1][:-9]\n",
    "        print(name)\n",
    "        \n",
    "        # read csv\n",
    "        df = pd.read_csv(file, index_col=0)\n",
    "        \n",
    "        # engineer features\n",
    "        df = feature_engineering(df)\n",
    "        \n",
    "        # train test split\n",
    "        train = df[df['date'] < '2018-09-30 23:00:00'] # cutoff sept 30 2018\n",
    "        test = df[df['date'] > '2019-01-31 23:00:00'] # cutoff jan 31 2019\n",
    "        print('train and test shape ({model}):'.format(model=name), train.shape, test.shape)\n",
    "        \n",
    "        # features and target\n",
    "        features = df.drop(columns=['target', 'date']).columns.tolist()\n",
    "        target = 'target'\n",
    "        print(features)\n",
    "\n",
    "        # define X, y vectors\n",
    "        X_train = train[features]\n",
    "        X_test = test[features]\n",
    "        y_train = train[target]\n",
    "        y_test = test[target]\n",
    "        \n",
    "        # instantiate model\n",
    "        model = RandomForestClassifier(max_depth=50, n_estimators=100, n_jobs=-1, random_state=42)\n",
    "        \n",
    "        # fit model\n",
    "        if X_train.shape[0] > 1000:\n",
    "            model.fit(X_train, y_train)\n",
    "            print('model fitted')\n",
    "\n",
    "            # train accuracy\n",
    "            train_score = model.score(X_train, y_train)\n",
    "            print('train accuracy:', train_score)\n",
    "\n",
    "            # make predictions\n",
    "            y_preds = model.predict(X_test)\n",
    "            print('predictions made')\n",
    "\n",
    "            # test accuracy\n",
    "            score = accuracy_score(y_test, y_preds)\n",
    "            print('test accuracy:', score)\n",
    "\n",
    "            # return model pkl\n",
    "            \n",
    "            pickle.dump(model, open('pickles/{model}.pkl'.format(model=name), 'wb'))\n",
    "            print('{model} pickle saved!'.format(model=model))\n",
    "        else:\n",
    "            print('{model} does not have enough data!'.format(model=name))\n",
    "        \n",
    "        \n",
    "pipeline(csv_filenames)"
   ]
  },
  {
   "cell_type": "code",
   "execution_count": null,
   "metadata": {},
   "outputs": [],
   "source": []
  },
  {
   "cell_type": "code",
   "execution_count": null,
   "metadata": {},
   "outputs": [],
   "source": []
  },
  {
   "cell_type": "markdown",
   "metadata": {},
   "source": [
    "### testing api"
   ]
  },
  {
   "cell_type": "code",
   "execution_count": null,
   "metadata": {},
   "outputs": [],
   "source": [
    "import json\n",
    "import requests\n",
    "\n",
    "url = 'url' #change to your url\n",
    "\n",
    "post = {\"exchange\": \"bitfinex\", \"trading_pair\": \"btc_usdt\"}\n",
    "\n",
    "post = json.dumps(post)\n",
    "\n",
    "send_request = requests.post(post)\n",
    "print('response:', send_request)\n",
    "\n",
    "print(send_request.json())"
   ]
  },
  {
   "cell_type": "code",
   "execution_count": null,
   "metadata": {},
   "outputs": [],
   "source": []
  }
 ],
 "metadata": {
  "kernelspec": {
   "display_name": "cryptolytic",
   "language": "python",
   "name": "cryptolytic"
  },
  "language_info": {
   "codemirror_mode": {
    "name": "ipython",
    "version": 3
   },
   "file_extension": ".py",
   "mimetype": "text/x-python",
   "name": "python",
   "nbconvert_exporter": "python",
   "pygments_lexer": "ipython3",
   "version": "3.7.4"
  }
 },
 "nbformat": 4,
 "nbformat_minor": 4
}
