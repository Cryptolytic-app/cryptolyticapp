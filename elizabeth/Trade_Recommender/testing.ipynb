{
 "cells": [
  {
   "cell_type": "code",
   "execution_count": 5,
   "metadata": {},
   "outputs": [],
   "source": [
    "import json\n",
    "import requests"
   ]
  },
  {
   "cell_type": "code",
   "execution_count": 8,
   "metadata": {},
   "outputs": [],
   "source": [
    "url = 'http://127.0.0.1:9000/cryptotraderecommender'"
   ]
  },
  {
   "cell_type": "code",
   "execution_count": 26,
   "metadata": {},
   "outputs": [],
   "source": [
    "url = 'http://127.0.0.1:9000/cryptotraderecommender'\n",
    "\n",
    "# sample data\n",
    "data = {'placeholder': 0}\n",
    "data = json.dumps(data)"
   ]
  },
  {
   "cell_type": "code",
   "execution_count": 27,
   "metadata": {},
   "outputs": [
    {
     "name": "stdout",
     "output_type": "stream",
     "text": [
      "{'results': [['Bitfinex', 'BTC/USD', '2019-09-30', '17:00:00', 'True'], ['Bitfinex', 'ETH/USD', '2019-09-30', '17:00:00', 'True'], ['Bitfinex', 'LTC/USD', '2019-09-30', '17:00:00', 'True'], ['Coinbase', 'BTC/USD', '2019-09-30', '17:00:00', 'False'], ['Coinbase', 'ETH/USD', '2019-09-30', '17:00:00', 'True'], ['Coinbase', 'LTC/USD', '2019-09-30', '17:00:00', 'True'], ['Poloniex', 'BTC/USDT', '2019-09-20', '17:00:00', 'False'], ['Poloniex', 'ETH/USDT', '2019-09-20', '17:00:00', 'False'], ['Poloniex', 'LTC/USDT', '2019-09-20', '17:00:00', 'True']]}\n"
     ]
    }
   ],
   "source": [
    "send_request = requests.get(url)\n",
    "print(send_request.json())"
   ]
  },
  {
   "cell_type": "code",
   "execution_count": null,
   "metadata": {},
   "outputs": [],
   "source": []
  }
 ],
 "metadata": {
  "kernelspec": {
   "display_name": "Python 3",
   "language": "python",
   "name": "python3"
  },
  "language_info": {
   "codemirror_mode": {
    "name": "ipython",
    "version": 3
   },
   "file_extension": ".py",
   "mimetype": "text/x-python",
   "name": "python",
   "nbconvert_exporter": "python",
   "pygments_lexer": "ipython3",
   "version": "3.7.3"
  }
 },
 "nbformat": 4,
 "nbformat_minor": 4
}
