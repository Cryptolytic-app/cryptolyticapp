{
  "nbformat": 4,
  "nbformat_minor": 0,
  "metadata": {
    "colab": {
      "name": "CBPRO",
      "provenance": [],
      "collapsed_sections": []
    },
    "kernelspec": {
      "name": "python3",
      "display_name": "Python 3"
    }
  },
  "cells": [
    {
      "cell_type": "markdown",
      "metadata": {
        "id": "vcxMyKWzDzg3",
        "colab_type": "text"
      },
      "source": [
        ""
      ]
    },
    {
      "cell_type": "code",
      "metadata": {
        "id": "Ml9vJTcIJoFD",
        "colab_type": "code",
        "outputId": "119ee85f-eacd-48d7-9e3d-3d49da63c2d5",
        "colab": {
          "base_uri": "https://localhost:8080/",
          "height": 715
        }
      },
      "source": [
        "!pip install cbpro"
      ],
      "execution_count": 1,
      "outputs": [
        {
          "output_type": "stream",
          "text": [
            "Collecting cbpro\n",
            "  Downloading https://files.pythonhosted.org/packages/54/c1/afa1482587268a8d1bda15f993fd1eaad038a62f41d860d82bb3b282c7d1/cbpro-1.1.4-py2.py3-none-any.whl\n",
            "Collecting requests==2.13.0 (from cbpro)\n",
            "\u001b[?25l  Downloading https://files.pythonhosted.org/packages/7e/ac/a80ed043485a3764053f59ca92f809cc8a18344692817152b0e8bd3ca891/requests-2.13.0-py2.py3-none-any.whl (584kB)\n",
            "\u001b[K     |████████████████████████████████| 593kB 7.2MB/s \n",
            "\u001b[?25hCollecting websocket-client==0.40.0 (from cbpro)\n",
            "\u001b[?25l  Downloading https://files.pythonhosted.org/packages/a7/2b/0039154583cb0489c8e18313aa91ccd140ada103289c5c5d31d80fd6d186/websocket_client-0.40.0.tar.gz (196kB)\n",
            "\u001b[K     |████████████████████████████████| 204kB 34.8MB/s \n",
            "\u001b[?25hCollecting pymongo==3.5.1 (from cbpro)\n",
            "\u001b[?25l  Downloading https://files.pythonhosted.org/packages/10/b3/2a3dd782a8bc51d6a715ed1db8d1851271ab454a8da67c462f7ecab16356/pymongo-3.5.1-cp36-cp36m-manylinux1_x86_64.whl (365kB)\n",
            "\u001b[K     |████████████████████████████████| 368kB 37.7MB/s \n",
            "\u001b[?25hRequirement already satisfied: sortedcontainers>=1.5.9 in /usr/local/lib/python3.6/dist-packages (from cbpro) (2.1.0)\n",
            "Collecting six==1.10.0 (from cbpro)\n",
            "  Downloading https://files.pythonhosted.org/packages/c8/0a/b6723e1bc4c516cb687841499455a8505b44607ab535be01091c0f24f079/six-1.10.0-py2.py3-none-any.whl\n",
            "Building wheels for collected packages: websocket-client\n",
            "  Building wheel for websocket-client (setup.py) ... \u001b[?25l\u001b[?25hdone\n",
            "  Created wheel for websocket-client: filename=websocket_client-0.40.0-py2.py3-none-any.whl size=198284 sha256=67ba7a77b8a358d2eff245ae36daf888f4ea038e5cee7520fb80ab207ad41525\n",
            "  Stored in directory: /root/.cache/pip/wheels/b0/d2/e2/8275906d09421f074dc2d05381643a0b4b3c4945d845b14bf9\n",
            "Successfully built websocket-client\n",
            "\u001b[31mERROR: tfds-nightly 1.2.0.dev201909050105 has requirement requests>=2.19.0, but you'll have requests 2.13.0 which is incompatible.\u001b[0m\n",
            "\u001b[31mERROR: google-colab 1.0.0 has requirement requests~=2.21.0, but you'll have requests 2.13.0 which is incompatible.\u001b[0m\n",
            "\u001b[31mERROR: google-colab 1.0.0 has requirement six~=1.12.0, but you'll have six 1.10.0 which is incompatible.\u001b[0m\n",
            "\u001b[31mERROR: google-api-core 1.14.2 has requirement requests<3.0.0dev,>=2.18.0, but you'll have requests 2.13.0 which is incompatible.\u001b[0m\n",
            "\u001b[31mERROR: datascience 0.10.6 has requirement folium==0.2.1, but you'll have folium 0.8.3 which is incompatible.\u001b[0m\n",
            "\u001b[31mERROR: albumentations 0.1.12 has requirement imgaug<0.2.7,>=0.2.5, but you'll have imgaug 0.2.9 which is incompatible.\u001b[0m\n",
            "Installing collected packages: requests, six, websocket-client, pymongo, cbpro\n",
            "  Found existing installation: requests 2.21.0\n",
            "    Uninstalling requests-2.21.0:\n",
            "      Successfully uninstalled requests-2.21.0\n",
            "  Found existing installation: six 1.12.0\n",
            "    Uninstalling six-1.12.0:\n",
            "      Successfully uninstalled six-1.12.0\n",
            "  Found existing installation: pymongo 3.9.0\n",
            "    Uninstalling pymongo-3.9.0:\n",
            "      Successfully uninstalled pymongo-3.9.0\n",
            "Successfully installed cbpro-1.1.4 pymongo-3.5.1 requests-2.13.0 six-1.10.0 websocket-client-0.40.0\n"
          ],
          "name": "stdout"
        },
        {
          "output_type": "display_data",
          "data": {
            "application/vnd.colab-display-data+json": {
              "pip_warning": {
                "packages": [
                  "requests",
                  "six"
                ]
              }
            }
          },
          "metadata": {
            "tags": []
          }
        }
      ]
    },
    {
      "cell_type": "code",
      "metadata": {
        "id": "AS4jU1b1HyvB",
        "colab_type": "code",
        "outputId": "e496e14a-5bc9-4d44-8277-33a6529c7aa7",
        "colab": {
          "base_uri": "https://localhost:8080/",
          "height": 34
        }
      },
      "source": [
        "!curl ipecho.net/plain"
      ],
      "execution_count": 2,
      "outputs": [
        {
          "output_type": "stream",
          "text": [
            "104.199.224.67"
          ],
          "name": "stdout"
        }
      ]
    },
    {
      "cell_type": "code",
      "metadata": {
        "id": "cXyk58Q9F4HJ",
        "colab_type": "code",
        "colab": {}
      },
      "source": [
        "import pymongo\n",
        "import cbpro"
      ],
      "execution_count": 0,
      "outputs": []
    },
    {
      "cell_type": "code",
      "metadata": {
        "id": "ybgwrzvKIpkF",
        "colab_type": "code",
        "colab": {
          "base_uri": "https://localhost:8080/",
          "height": 51
        },
        "outputId": "c9f6655c-4a2f-48bf-a70e-f0428cde9e8b"
      },
      "source": [
        "\n",
        "#python 3.4\n",
        "\n",
        "client = pymongo.MongoClient(\"mongodb://dbmarvin:<Password>@cbprolive-shard-00-00-l6hwp.mongodb.net:27017,cbprolive-shard-00-01-l6hwp.mongodb.net:27017,cbprolive-shard-00-02-l6hwp.mongodb.net:27017/admin?ssl=true&replicaSet=cbprolive-shard-0&authSource=admin&retryWrites=true&w=majority\")\n",
        "#db = client.test\n"
      ],
      "execution_count": 4,
      "outputs": [
        {
          "output_type": "stream",
          "text": [
            "/usr/local/lib/python3.6/dist-packages/pymongo/common.py:559: UserWarning: Unknown option retryWrites\n",
            "  warnings.warn(str(exc))\n"
          ],
          "name": "stderr"
        }
      ]
    },
    {
      "cell_type": "code",
      "metadata": {
        "id": "6a-lq3GUDW_P",
        "colab_type": "code",
        "colab": {}
      },
      "source": [
        ""
      ],
      "execution_count": 0,
      "outputs": []
    },
    {
      "cell_type": "markdown",
      "metadata": {
        "id": "SSfJGFFFDXfD",
        "colab_type": "text"
      },
      "source": [
        "# Streaming Data"
      ]
    },
    {
      "cell_type": "markdown",
      "metadata": {
        "id": "GbC2xxrP8se9",
        "colab_type": "text"
      },
      "source": [
        "## Bitcoin "
      ]
    },
    {
      "cell_type": "code",
      "metadata": {
        "id": "udgTZcPAF4wF",
        "colab_type": "code",
        "outputId": "5152acbb-fa69-4289-d80a-5296a5aba5c9",
        "colab": {
          "base_uri": "https://localhost:8080/",
          "height": 85
        }
      },
      "source": [
        "from pymongo import MongoClient\n",
        "\n",
        "mongo_client = client\n",
        "\n",
        "# specify the database and collection\n",
        "db = mongo_client.cbpro_database\n",
        "BTC_ticker = db.BTC_ticker\n",
        "\n",
        "# instantiate a WebsocketClient instance, with a Mongo collection as a parameter\n",
        "wsClientb1 = cbpro.WebsocketClient(url=\"wss://ws-feed.pro.coinbase.com\", products=\"BTC-USD\", channels=['ticker'],\n",
        "    mongo_collection=BTC_ticker, should_print=True)\n",
        "\n",
        "\n",
        "\n",
        "\n",
        "\n",
        "# specify the database and collection\n",
        "db = mongo_client.cbpro_database\n",
        "BTC_matches = db.BTC_matches\n",
        "\n",
        "# instantiate a WebsocketClient instance, with a Mongo collection as a parameter\n",
        "wsClientb2 = cbpro.WebsocketClient(url=\"wss://ws-feed.pro.coinbase.com\", products=\"BTC-USD\", channels=['matches'],\n",
        "    mongo_collection=BTC_matches, should_print=True)\n",
        "\n",
        "\n",
        "\n",
        "\n",
        "wsClientb1.start()\n",
        "wsClientb2.start()"
      ],
      "execution_count": 11,
      "outputs": [
        {
          "output_type": "stream",
          "text": [
            "-- Subscribed! --\n",
            "\n",
            "-- Subscribed! --\n",
            "\n"
          ],
          "name": "stdout"
        }
      ]
    },
    {
      "cell_type": "code",
      "metadata": {
        "id": "24DutFpLtlJt",
        "colab_type": "code",
        "colab": {
          "base_uri": "https://localhost:8080/",
          "height": 88
        },
        "outputId": "1b3803d0-c972-427f-a618-f4e10cd9425b"
      },
      "source": [
        "wsClientb1.close()\n",
        "wsClientb2.close()"
      ],
      "execution_count": 10,
      "outputs": [
        {
          "output_type": "stream",
          "text": [
            "{'type': 'ticker', 'sequence': 10989003208, 'product_id': 'BTC-USD', 'price': '8557.69', 'open_24h': '8603.36000000', 'volume_24h': '9236.59399357', 'low_24h': '8452.50000000', 'high_24h': '8695.25000000', 'volume_30d': '317653.56200469', 'best_bid': '8557.68', 'best_ask': '8557.69', 'side': 'buy', 'time': '2019-10-10T17:29:20.204000Z', 'trade_id': 75761494, 'last_size': '0.01006339'}\n",
            "\n",
            "-- Socket Closed --\n"
          ],
          "name": "stdout"
        }
      ]
    },
    {
      "cell_type": "code",
      "metadata": {
        "id": "dH9ktWnjsdtJ",
        "colab_type": "code",
        "colab": {
          "base_uri": "https://localhost:8080/",
          "height": 51
        },
        "outputId": "640b4d95-50f6-4f88-e39a-5a9d0e777941"
      },
      "source": [
        "# specify the database and collection\n",
        "db = mongo_client.cbpro_database\n",
        "BTC_matches = db.BTC_matches\n",
        "\n",
        "# instantiate a WebsocketClient instance, with a Mongo collection as a parameter\n",
        "wsClientb2 = cbpro.WebsocketClient(url=\"wss://ws-feed.pro.coinbase.com\", products=\"BTC-USD\", channels=['matches'],\n",
        "    mongo_collection=BTC_matches, should_print=True)\n",
        "wsClientb2.start()"
      ],
      "execution_count": 8,
      "outputs": [
        {
          "output_type": "stream",
          "text": [
            "-- Subscribed! --\n",
            "\n"
          ],
          "name": "stdout"
        }
      ]
    },
    {
      "cell_type": "code",
      "metadata": {
        "id": "BgTqufzcto5x",
        "colab_type": "code",
        "colab": {
          "base_uri": "https://localhost:8080/",
          "height": 105
        },
        "outputId": "153fc8dc-edd7-466f-bd4f-d1b631a08188"
      },
      "source": [
        ""
      ],
      "execution_count": 9,
      "outputs": [
        {
          "output_type": "stream",
          "text": [
            "{'type': 'match', 'trade_id': 75761493, 'maker_order_id': '4f4b358b-1337-4c52-8d3f-2ad9bbf5b75e', 'taker_order_id': 'f03b80bc-3212-42c9-a2a9-e3d5430a8dd4', 'side': 'buy', 'size': '0.50722966', 'price': '8557.68', 'product_id': 'BTC-USD', 'sequence': 10989003137, 'time': '2019-10-10T17:29:16.189000Z'}\n",
            "{'type': 'ticker', 'sequence': 10989003137, 'product_id': 'BTC-USD', 'price': '8557.68', 'open_24h': '8603.36000000', 'volume_24h': '9236.58393018', 'low_24h': '8452.50000000', 'high_24h': '8695.25000000', 'volume_30d': '317653.55194130', 'best_bid': '8557.68', 'best_ask': '8557.69', 'side': 'sell', 'time': '2019-10-10T17:29:16.189000Z', 'trade_id': 75761493, 'last_size': '0.50722966'}\n",
            "\n",
            "-- Socket Closed --\n"
          ],
          "name": "stdout"
        }
      ]
    },
    {
      "cell_type": "markdown",
      "metadata": {
        "id": "n-FTYChT8lTy",
        "colab_type": "text"
      },
      "source": [
        "## Ethereum"
      ]
    },
    {
      "cell_type": "code",
      "metadata": {
        "id": "2xaG3ucwzQWK",
        "colab_type": "code",
        "outputId": "eaf87090-63ca-4441-9d4b-f846786bbe77",
        "colab": {
          "base_uri": "https://localhost:8080/",
          "height": 51
        }
      },
      "source": [
        "# specify the database and collection\n",
        "db = mongo_client.cryptocurrency_database\n",
        "ETH_collection = db.ETH_collection\n",
        "\n",
        "# instantiate a WebsocketClient instance, with a Mongo collection as a parameter\n",
        "wsClient1 = cbpro.WebsocketClient(url=\"wss://ws-feed.pro.coinbase.com\", products=\"ETH-USD\", channels=['ticker'],\n",
        "    mongo_collection=ETH_collection, should_print=True)\n",
        "wsClient1.start()\n"
      ],
      "execution_count": 0,
      "outputs": [
        {
          "output_type": "stream",
          "text": [
            "-- Subscribed! --\n",
            "\n"
          ],
          "name": "stdout"
        }
      ]
    },
    {
      "cell_type": "markdown",
      "metadata": {
        "id": "xCpOsLlm8yxn",
        "colab_type": "text"
      },
      "source": [
        "## Litecoin"
      ]
    },
    {
      "cell_type": "code",
      "metadata": {
        "id": "dEvAS-lq775o",
        "colab_type": "code",
        "outputId": "7144d389-c49e-4a66-8b07-d3d766a7c209",
        "colab": {
          "base_uri": "https://localhost:8080/",
          "height": 51
        }
      },
      "source": [
        "# specify the database and collection\n",
        "db = mongo_client.cryptocurrency_database\n",
        "LTC_collection = db.LTC_collection\n",
        "\n",
        "# instantiate a WebsocketClient instance, with a Mongo collection as a parameter\n",
        "wsClient2 = cbpro.WebsocketClient(url=\"wss://ws-feed.pro.coinbase.com\", products=\"LTC-USD\", channels=['ticker'],\n",
        "    mongo_collection=LTC_collection, should_print=True)\n",
        "wsClient2.start()\n"
      ],
      "execution_count": 0,
      "outputs": [
        {
          "output_type": "stream",
          "text": [
            "-- Subscribed! --\n",
            "\n"
          ],
          "name": "stdout"
        }
      ]
    },
    {
      "cell_type": "markdown",
      "metadata": {
        "id": "3KP0gt25DfMS",
        "colab_type": "text"
      },
      "source": [
        "## Close Client"
      ]
    },
    {
      "cell_type": "code",
      "metadata": {
        "id": "BmSpXArbtd9A",
        "colab_type": "code",
        "outputId": "09f36394-65ca-4720-97c8-8aeecdc7dc98",
        "colab": {
          "base_uri": "https://localhost:8080/",
          "height": 269
        }
      },
      "source": [
        "wsClient.close()\n",
        "wsClient1.close()\n",
        "wsClient2.close()"
      ],
      "execution_count": 6,
      "outputs": [
        {
          "output_type": "stream",
          "text": [
            "{'type': 'ticker', 'sequence': 10988990398, 'product_id': 'BTC-USD', 'price': '8550', 'open_24h': '8621.63000000', 'volume_24h': '9252.50187600', 'low_24h': '8452.50000000', 'high_24h': '8695.25000000', 'volume_30d': '317678.11893106', 'best_bid': '8549.69', 'best_ask': '8550.00', 'side': 'buy', 'time': '2019-10-10T17:22:57.066000Z', 'trade_id': 75761220, 'last_size': '0.05000000'}\n",
            "\n",
            "-- Socket Closed --\n"
          ],
          "name": "stdout"
        },
        {
          "output_type": "error",
          "ename": "NameError",
          "evalue": "ignored",
          "traceback": [
            "\u001b[0;31m---------------------------------------------------------------------------\u001b[0m",
            "\u001b[0;31mNameError\u001b[0m                                 Traceback (most recent call last)",
            "\u001b[0;32m<ipython-input-6-422551ac86fa>\u001b[0m in \u001b[0;36m<module>\u001b[0;34m()\u001b[0m\n\u001b[1;32m      1\u001b[0m \u001b[0mwsClient\u001b[0m\u001b[0;34m.\u001b[0m\u001b[0mclose\u001b[0m\u001b[0;34m(\u001b[0m\u001b[0;34m)\u001b[0m\u001b[0;34m\u001b[0m\u001b[0;34m\u001b[0m\u001b[0m\n\u001b[0;32m----> 2\u001b[0;31m \u001b[0mwsClient1\u001b[0m\u001b[0;34m.\u001b[0m\u001b[0mclose\u001b[0m\u001b[0;34m(\u001b[0m\u001b[0;34m)\u001b[0m\u001b[0;34m\u001b[0m\u001b[0;34m\u001b[0m\u001b[0m\n\u001b[0m\u001b[1;32m      3\u001b[0m \u001b[0mwsClient2\u001b[0m\u001b[0;34m.\u001b[0m\u001b[0mclose\u001b[0m\u001b[0;34m(\u001b[0m\u001b[0;34m)\u001b[0m\u001b[0;34m\u001b[0m\u001b[0;34m\u001b[0m\u001b[0m\n",
            "\u001b[0;31mNameError\u001b[0m: name 'wsClient1' is not defined"
          ]
        }
      ]
    },
    {
      "cell_type": "code",
      "metadata": {
        "id": "qUPgQpaBF4tl",
        "colab_type": "code",
        "outputId": "d594fb63-40c1-42ba-ba3a-d107b51f0aa5",
        "colab": {
          "base_uri": "https://localhost:8080/",
          "height": 54
        }
      },
      "source": [
        "wsClient1.close()"
      ],
      "execution_count": 0,
      "outputs": [
        {
          "output_type": "execute_result",
          "data": {
            "text/plain": [
              "Database(MongoClient(host=['cbprolive-shard-00-00-l6hwp.mongodb.net:27017', 'cbprolive-shard-00-02-l6hwp.mongodb.net:27017', 'cbprolive-shard-00-01-l6hwp.mongodb.net:27017'], document_class=dict, tz_aware=False, connect=True, ssl=True, replicaset='cbprolive-shard-0', authsource='admin', retrywrites=True, w='majority'), 'cryptocurrency_database')"
            ]
          },
          "metadata": {
            "tags": []
          },
          "execution_count": 29
        }
      ]
    },
    {
      "cell_type": "code",
      "metadata": {
        "id": "5icILAfQsjkS",
        "colab_type": "code",
        "colab": {}
      },
      "source": [
        "wsClient2.close()"
      ],
      "execution_count": 0,
      "outputs": []
    },
    {
      "cell_type": "markdown",
      "metadata": {
        "id": "IomjvpfiDspt",
        "colab_type": "text"
      },
      "source": [
        "# Query DB"
      ]
    },
    {
      "cell_type": "code",
      "metadata": {
        "id": "yhXgf_S3PCI7",
        "colab_type": "code",
        "colab": {}
      },
      "source": [
        ""
      ],
      "execution_count": 0,
      "outputs": []
    }
  ]
}