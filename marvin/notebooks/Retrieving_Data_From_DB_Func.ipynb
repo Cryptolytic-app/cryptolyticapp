{
  "nbformat": 4,
  "nbformat_minor": 0,
  "metadata": {
    "colab": {
      "name": "Retrieving_Data_From_DB.ipynb",
      "provenance": [],
      "collapsed_sections": []
    },
    "kernelspec": {
      "name": "python3",
      "display_name": "Python 3"
    }
  },
  "cells": [
    {
      "cell_type": "code",
      "metadata": {
        "id": "8hEHzekfl3BT",
        "colab_type": "code",
        "colab": {
          "base_uri": "https://localhost:8080/",
          "height": 102
        },
        "outputId": "811fd2e2-24f1-4127-9f8d-6dac31292a29"
      },
      "source": [
        "!pip install psycopg2-binary"
      ],
      "execution_count": 1,
      "outputs": [
        {
          "output_type": "stream",
          "text": [
            "Collecting psycopg2-binary\n",
            "\u001b[?25l  Downloading https://files.pythonhosted.org/packages/b1/35/75c9c2d9cfc073ab6c42b2d8e91ff58c9b99f4ed7ed56b36647642e6080e/psycopg2_binary-2.8.3-cp36-cp36m-manylinux1_x86_64.whl (2.9MB)\n",
            "\u001b[K     |████████████████████████████████| 2.9MB 2.8MB/s \n",
            "\u001b[?25hInstalling collected packages: psycopg2-binary\n",
            "Successfully installed psycopg2-binary-2.8.3\n"
          ],
          "name": "stdout"
        }
      ]
    },
    {
      "cell_type": "code",
      "metadata": {
        "id": "STbNgX4-qUm7",
        "colab_type": "code",
        "colab": {}
      },
      "source": [
        "# Decided to get the list of table names\n",
        "\n",
        "table_names= [\"bitfinex_bchbtc\",\n",
        "\"bitfinex_bchusd\", \"bitfinex_btcusd\", \"bitfinex_btcusdt\", \"bitfinex_dashbtc\",\n",
        "'bitfinex_dashusd','bitfinex_eosbtc','bitfinex_eosusd','bitfinex_eosusdt','bitfinex_etcbtc',\n",
        "'bitfinex_etcusd','bitfinex_ethbtc','bitfinex_ethusd','bitfinex_ltcbtc',\n",
        "'bitfinex_ltcusd','bitfinex_xlmusd','bitfinex_xrpbtc','bitfinex_xrpusd','bitfinex_zecbtc',\n",
        "'bitfinex_zecusd','coinbase_pro_bchbtc','coinbase_pro_bchusd','coinbase_pro_btcusd',\n",
        "'coinbase_pro_btcusdc','coinbase_pro_dashbtc','coinbase_pro_dashusd','coinbase_pro_eosbtc',\n",
        "'coinbase_pro_eosusd','coinbase_pro_etcbtc','coinbase_pro_etcusd',\n",
        "'coinbase_pro_ethbtc','coinbase_pro_ethusd','coinbase_pro_ethusdc','coinbase_pro_ltcbtc','coinbase_pro_ltcusd',\n",
        "'coinbase_pro_xlmusd','coinbase_pro_xrpbtc','coinbase_pro_xrpusd',\n",
        "'coinbase_pro_zecbtc','coinbase_pro_zecusdc','poloniex_bchbtc',\n",
        "'poloniex_bchusdc','poloniex_btcusdc','poloniex_btcusdt','poloniex_dashbtc',\n",
        "'poloniex_dashusdc','poloniex_dashusdt','poloniex_eosbtc','poloniex_eosusdc',\n",
        "'poloniex_eosusdt','poloniex_etcbtc','poloniex_etcusdt','poloniex_ethbtc',\n",
        "'poloniex_ethusdc','poloniex_ethusdt','poloniex_ltcbtc','poloniex_ltcusdc',\n",
        "'poloniex_xlmusdc','poloniex_xlmusdt','poloniex_xrpbtc','poloniex_xrpusdc',\n",
        "'poloniex_xrpusdt','poloniex_zecbtc','poloniex_zecusdc','poloniex_zecusdt']"
      ],
      "execution_count": 0,
      "outputs": []
    },
    {
      "cell_type": "markdown",
      "metadata": {
        "id": "1e4uO9MnQF3w",
        "colab_type": "text"
      },
      "source": [
        "# Retrieve Data Function From DB\n",
        "\n",
        "- Change limit to whatever amount rows you want.\n",
        "- example df = results['coinbase_pro_btcusd']"
      ]
    },
    {
      "cell_type": "code",
      "metadata": {
        "id": "wlcNl-yll283",
        "colab_type": "code",
        "colab": {}
      },
      "source": [
        "import psycopg2 as ps\n",
        "import pandas as pd\n",
        "\n",
        "POSTGRES_ADDRESS = '' ## End Point\n",
        "POSTGRES_PORT = '' ##Port #\n",
        "POSTGRES_USERNAME = '' ## CHANGE THIS TO YOUR PANOPLY/POSTGRES USERNAME\n",
        "POSTGRES_PASSWORD = '' ## CHANGE THIS TO YOUR PANOPLY/POSTGRES PASSWORD \n",
        "POSTGRES_DBNAME = '' ## CHANGE THIS TO YOUR DATABASE NAME\n",
        "# A long string that contains the necessary Postgres login information \n",
        "postgres_str = ('postgresql://{username}:{password}@{ipaddress}:{port}/{dbname}'.format(\n",
        "                 username=POSTGRES_USERNAME, password=POSTGRES_PASSWORD, \n",
        "                 ipaddress=POSTGRES_ADDRESS,port=POSTGRES_PORT, dbname=POSTGRES_DBNAME))\n",
        "\n",
        "        \n",
        "results = {table_name: pd.DataFrame() for table_name in table_names}\n",
        "           \n",
        "def retrieve_data(table_names):\n",
        "  \n",
        "  conn = ps.connect(host=POSTGRES_ADDRESS,\n",
        "                  database=POSTGRES_DBNAME,\n",
        "                  user=POSTGRES_USERNAME,\n",
        "                  password=POSTGRES_PASSWORD,\n",
        "                  port=POSTGRES_PORT)\n",
        "    \n",
        "  cur = conn.cursor()\n",
        "\n",
        "  for table_name in table_names:\n",
        "    \n",
        "            # Change limit number to whatever amount of rows you want to retrieve\n",
        "            cur.execute(\"SELECT * FROM {table_name} order by time desc limit 3\".format(table_name=table_name))\n",
        "                      \n",
        "            result = cur.fetchall()\n",
        "            \n",
        "            results[table_name] = results[table_name].append(result, ignore_index=True)\n",
        "            \n",
        "            results[table_name] = results[table_name].rename(columns={0:'time', 1:'open', 2:'high', 3:'low', 4:'close', 5:'volume'})\n",
        "            #print(results[table_name])\n",
        "            \n",
        "  conn.close()"
      ],
      "execution_count": 0,
      "outputs": []
    },
    {
      "cell_type": "code",
      "metadata": {
        "id": "6Fm5yA5tl2_M",
        "colab_type": "code",
        "colab": {}
      },
      "source": [
        "# Using Function\n",
        "retrieve_data(table_names)"
      ],
      "execution_count": 0,
      "outputs": []
    },
    {
      "cell_type": "code",
      "metadata": {
        "id": "ZwFTJJj4oXPi",
        "colab_type": "code",
        "colab": {
          "base_uri": "https://localhost:8080/",
          "height": 142
        },
        "outputId": "9d2c13f4-72e5-40a0-f1b2-03c854fc9582"
      },
      "source": [
        "# Need to call each DF with their table name\n",
        "results['coinbase_pro_btcusd']"
      ],
      "execution_count": 52,
      "outputs": [
        {
          "output_type": "execute_result",
          "data": {
            "text/html": [
              "<div>\n",
              "<style scoped>\n",
              "    .dataframe tbody tr th:only-of-type {\n",
              "        vertical-align: middle;\n",
              "    }\n",
              "\n",
              "    .dataframe tbody tr th {\n",
              "        vertical-align: top;\n",
              "    }\n",
              "\n",
              "    .dataframe thead th {\n",
              "        text-align: right;\n",
              "    }\n",
              "</style>\n",
              "<table border=\"1\" class=\"dataframe\">\n",
              "  <thead>\n",
              "    <tr style=\"text-align: right;\">\n",
              "      <th></th>\n",
              "      <th>time</th>\n",
              "      <th>open</th>\n",
              "      <th>high</th>\n",
              "      <th>low</th>\n",
              "      <th>close</th>\n",
              "      <th>volume</th>\n",
              "    </tr>\n",
              "  </thead>\n",
              "  <tbody>\n",
              "    <tr>\n",
              "      <th>0</th>\n",
              "      <td>1571344200</td>\n",
              "      <td>8053.00</td>\n",
              "      <td>8057.48</td>\n",
              "      <td>8051.22</td>\n",
              "      <td>8052.02</td>\n",
              "      <td>8.528794</td>\n",
              "    </tr>\n",
              "    <tr>\n",
              "      <th>1</th>\n",
              "      <td>1571343900</td>\n",
              "      <td>8064.34</td>\n",
              "      <td>8064.34</td>\n",
              "      <td>8053.01</td>\n",
              "      <td>8053.58</td>\n",
              "      <td>15.335655</td>\n",
              "    </tr>\n",
              "    <tr>\n",
              "      <th>2</th>\n",
              "      <td>1571343600</td>\n",
              "      <td>8059.71</td>\n",
              "      <td>8066.83</td>\n",
              "      <td>8055.66</td>\n",
              "      <td>8064.34</td>\n",
              "      <td>11.442654</td>\n",
              "    </tr>\n",
              "  </tbody>\n",
              "</table>\n",
              "</div>"
            ],
            "text/plain": [
              "         time     open     high      low    close     volume\n",
              "0  1571344200  8053.00  8057.48  8051.22  8052.02   8.528794\n",
              "1  1571343900  8064.34  8064.34  8053.01  8053.58  15.335655\n",
              "2  1571343600  8059.71  8066.83  8055.66  8064.34  11.442654"
            ]
          },
          "metadata": {
            "tags": []
          },
          "execution_count": 52
        }
      ]
    },
    {
      "cell_type": "code",
      "metadata": {
        "id": "beQDqoAJOqrg",
        "colab_type": "code",
        "colab": {}
      },
      "source": [
        ""
      ],
      "execution_count": 0,
      "outputs": []
    }
  ]
}
