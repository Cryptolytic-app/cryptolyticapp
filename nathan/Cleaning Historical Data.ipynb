{
 "cells": [
  {
   "cell_type": "code",
   "execution_count": 44,
   "metadata": {},
   "outputs": [],
   "source": [
    "import os\n",
    "import pandas as pd\n",
    "\n",
    "directory = 'Priority_1'\n",
    "\n",
    "for filename in os.listdir(directory):\n",
    "    if filename.startswith(\"coinbase\"):\n",
    "        df = pd.read_csv('Priority_1/' + filename, index_col=0)\n",
    "        df = df[['time', 'open', 'high', 'low', 'close', 'volume']]\n",
    "        df.to_csv('Priority_1_Cleaned/' + filename)\n",
    "\n",
    "for filename in os.listdir(directory):\n",
    "    if filename.startswith(\"poloniex\"):\n",
    "        df = pd.read_csv('Priority_1/' + filename, index_col=0)\n",
    "        df = df.rename(columns={'date': 'time'})\n",
    "        df = df[['time', 'open', 'high', 'low', 'close', 'volume']]\n",
    "        df.to_csv('Priority_1_Cleaned/' + filename)\n",
    "        \n",
    "for filename in os.listdir(directory):\n",
    "    if filename.startswith(\"bitfinex\"):\n",
    "        df = pd.read_csv('Priority_1/' + filename, index_col=0)\n",
    "        df['time'] = (df['time']/1000).astype('int64')\n",
    "        df = df[['time', 'open', 'high', 'low', 'close', 'volume']]\n",
    "        df.to_csv('Priority_1_Cleaned/' + filename)"
   ]
  }
 ],
 "metadata": {
  "kernelspec": {
   "display_name": "Python 3",
   "language": "python",
   "name": "python3"
  },
  "language_info": {
   "codemirror_mode": {
    "name": "ipython",
    "version": 3
   },
   "file_extension": ".py",
   "mimetype": "text/x-python",
   "name": "python",
   "nbconvert_exporter": "python",
   "pygments_lexer": "ipython3",
   "version": "3.7.3"
  }
 },
 "nbformat": 4,
 "nbformat_minor": 2
}
