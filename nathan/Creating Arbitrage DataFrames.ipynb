{
 "cells": [
  {
   "cell_type": "code",
   "execution_count": 1,
   "metadata": {},
   "outputs": [
    {
     "data": {
      "text/plain": [
       "[['bitfinex_eos_usdt_300.csv', 'hitbtc_eos_usdt_300.csv'],\n",
       " ['bitfinex_bch_btc_300.csv', 'coinbase_pro_bch_btc_300.csv'],\n",
       " ['bitfinex_bch_btc_300.csv', 'hitbtc_bch_btc_300.csv'],\n",
       " ['bitfinex_etc_usd_300.csv', 'coinbase_pro_etc_usd_300.csv'],\n",
       " ['bitfinex_btc_usd_300.csv', 'coinbase_pro_btc_usd_300.csv'],\n",
       " ['bitfinex_ltc_btc_300.csv', 'coinbase_pro_ltc_btc_300.csv'],\n",
       " ['bitfinex_ltc_btc_300.csv', 'hitbtc_ltc_btc_300.csv'],\n",
       " ['bitfinex_dash_usd_300.csv', 'coinbase_pro_dash_usd_300.csv'],\n",
       " ['bitfinex_dash_btc_300.csv', 'coinbase_pro_dash_btc_300.csv'],\n",
       " ['bitfinex_dash_btc_300.csv', 'hitbtc_dash_btc_300.csv'],\n",
       " ['bitfinex_ltc_usd_300.csv', 'coinbase_pro_ltc_usd_300.csv'],\n",
       " ['bitfinex_bch_usdt_300.csv', 'hitbtc_bch_usdt_300.csv'],\n",
       " ['bitfinex_bch_usd_300.csv', 'coinbase_pro_bch_usd_300.csv'],\n",
       " ['bitfinex_eos_usd_300.csv', 'coinbase_pro_eos_usd_300.csv'],\n",
       " ['bitfinex_xrp_usd_300.csv', 'coinbase_pro_xrp_usd_300.csv'],\n",
       " ['bitfinex_eth_btc_300.csv', 'coinbase_pro_eth_btc_300.csv'],\n",
       " ['bitfinex_eth_btc_300.csv', 'hitbtc_eth_btc_300.csv'],\n",
       " ['bitfinex_eth_usdt_300.csv', 'hitbtc_eth_usdt_300.csv'],\n",
       " ['bitfinex_eth_usd_300.csv', 'coinbase_pro_eth_usd_300.csv'],\n",
       " ['bitfinex_ltc_usdt_300.csv', 'hitbtc_ltc_usdt_300.csv'],\n",
       " ['bitfinex_zrx_usd_300.csv', 'coinbase_pro_zrx_usd_300.csv'],\n",
       " ['bitfinex_xrp_btc_300.csv', 'coinbase_pro_xrp_btc_300.csv'],\n",
       " ['bitfinex_xrp_btc_300.csv', 'hitbtc_xrp_btc_300.csv'],\n",
       " ['bitfinex_eos_btc_300.csv', 'coinbase_pro_eos_btc_300.csv'],\n",
       " ['bitfinex_eos_btc_300.csv', 'hitbtc_eos_btc_300.csv'],\n",
       " ['bitfinex_btc_usdt_300.csv', 'hitbtc_btc_usdt_300.csv'],\n",
       " ['coinbase_pro_dash_btc_300.csv', 'hitbtc_dash_btc_300.csv'],\n",
       " ['coinbase_pro_eth_btc_300.csv', 'hitbtc_eth_btc_300.csv'],\n",
       " ['coinbase_pro_xrp_btc_300.csv', 'hitbtc_xrp_btc_300.csv'],\n",
       " ['coinbase_pro_eos_btc_300.csv', 'hitbtc_eos_btc_300.csv'],\n",
       " ['coinbase_pro_eth_usdc_300.csv', 'hitbtc_eth_usdc_300.csv'],\n",
       " ['coinbase_pro_bch_btc_300.csv', 'hitbtc_bch_btc_300.csv'],\n",
       " ['coinbase_pro_ltc_btc_300.csv', 'hitbtc_ltc_btc_300.csv'],\n",
       " ['coinbase_pro_btc_usdc_300.csv', 'hitbtc_btc_usdc_300.csv']]"
      ]
     },
     "execution_count": 1,
     "metadata": {},
     "output_type": "execute_result"
    }
   ],
   "source": [
    "import os\n",
    "\n",
    "def get_file_pairs(exchanges):\n",
    "    filenames = []\n",
    "    for directory in os.listdir('data'):\n",
    "        for filename in os.listdir('data/' + directory):\n",
    "            if filename.endswith('300.csv'):\n",
    "                 filenames.append(filename)\n",
    "    file_pairs = []\n",
    "    for filename_1 in filenames:\n",
    "        remaining_filenames = filenames[filenames.index(filename_1)+1:]\n",
    "        for filename_2 in remaining_filenames:\n",
    "            for exchange in exchanges:\n",
    "                if filename_1.replace(exchange, '') in filename_2:\n",
    "                    file_pairs.append([filename_1, filename_2])\n",
    "    return file_pairs\n",
    "\n",
    "exchanges = ['bitfinex', 'coinbase_pro', 'hitbtc']\n",
    "get_file_pairs(exchanges)"
   ]
  },
  {
   "cell_type": "code",
   "execution_count": 2,
   "metadata": {},
   "outputs": [],
   "source": [
    "import pandas as pd\n",
    "\n",
    "def get_df(filename):\n",
    "    df = pd.read_csv(filename, index_col=0)\n",
    "    return df"
   ]
  },
  {
   "cell_type": "code",
   "execution_count": 3,
   "metadata": {},
   "outputs": [],
   "source": [
    "from ta import add_all_ta_features\n",
    "\n",
    "def engineer_features(df):\n",
    "    df = add_all_ta_features(df, 'open', 'high', 'low', 'close',\n",
    "                             'base_volume', fillna=True)\n",
    "    df = df.drop(columns=['open', 'high', 'low', 'momentum_kama',\n",
    "                          'momentum_stoch', 'others_cr', 'others_dlr',\n",
    "                          'trend_ema_fast', 'trend_ema_slow', \n",
    "                          'trend_ichimoku_a', 'trend_ichimoku_b', 'trend_kst',\n",
    "                          'trend_macd', 'trend_visual_ichimoku_a',\n",
    "                          'trend_visual_ichimoku_b', 'volatility_bbh',\n",
    "                          'volatility_bbl', 'volatility_bbm',\n",
    "                          'volatility_dch', 'volatility_dcl',\n",
    "                          'volatility_kcc', 'volatility_kch',\n",
    "                          'volatility_kcl'])\n",
    "    df['time_since_last'] = df['closing_time'].diff(-1)\n",
    "    return df"
   ]
  },
  {
   "cell_type": "code",
   "execution_count": null,
   "metadata": {},
   "outputs": [],
   "source": [
    "def get_higher_closing_price(df):\n",
    "    if (df['close_exchange_1'] - df['close_exchange_2']) > 0:\n",
    "        return 'exchange_1'\n",
    "    elif (df['close_exchange_1'] - df['close_exchange_2']) < 0:\n",
    "        return 'exchange_2'\n",
    "    else:\n",
    "        return 'equivalent'\n",
    "\n",
    "def get_pct_higher(df):\n",
    "    if df['higher_closing_price'] == 'exchange_1':\n",
    "        return ((df['close_exchange_1'] / \n",
    "                 df['close_exchange_2'])-1)*100\n",
    "    elif df['higher_closing_price'] == 'exchange_2':\n",
    "        return ((df['close_exchange_2'] / \n",
    "                 df['close_exchange_1'])-1)*100\n",
    "    else:\n",
    "        return 0\n",
    "    \n",
    "def get_target(df):\n",
    "    if df['pct_higher'] < .55:\n",
    "        return 'no_arbitrage'\n",
    "    elif df['higher_closing_price'] == 'exchange_1':\n",
    "        return 'arbitrage_exchange_2_to_exchange_1'\n",
    "    elif df['higher_closing_price'] == 'exchange_2':\n",
    "        return 'arbitrage_exchange_1_to_exchange_2'\n",
    "        \n",
    "def merge_dfs(df1, df2):\n",
    "    df = pd.merge(df1, df2, on='closing_time',\n",
    "                  suffixes=('_exchange_1', '_exchange_2'))\n",
    "    df['higher_closing_price'] = df.apply(get_higher_closing_price, axis=1)\n",
    "    df['pct_higher'] = df.apply(get_pct_higher, axis=1)\n",
    "    df['target'] = df.apply(get_target, axis=1)\n",
    "    df = df.drop(columns=['higher_closing_price', 'pct_higher'])\n",
    "    df['target'] = df['target'].shift(-1)\n",
    "    df = df[0:-1]\n",
    "    return df"
   ]
  },
  {
   "cell_type": "code",
   "execution_count": null,
   "metadata": {},
   "outputs": [
    {
     "name": "stderr",
     "output_type": "stream",
     "text": [
      "/anaconda3/lib/python3.7/site-packages/ta/trend.py:170: RuntimeWarning: invalid value encountered in double_scalars\n",
      "  dip[i] = 100 * (dip_mio[i]/trs[i])\n",
      "/anaconda3/lib/python3.7/site-packages/ta/trend.py:174: RuntimeWarning: invalid value encountered in double_scalars\n",
      "  din[i] = 100 * (din_mio[i]/trs[i])\n"
     ]
    }
   ],
   "source": [
    "def create_all_arbitrage_dfs(exchanges):\n",
    "    for pair in get_file_pairs(exchanges):\n",
    "        for exchange in exchanges:\n",
    "            if exchange in pair[0]:\n",
    "                exchange_1 = exchange\n",
    "            if exchange in pair[1]:\n",
    "                exchange_2 = exchange\n",
    "        \n",
    "        df1 = get_df('data/' + exchange_1 + '/' + pair[0])\n",
    "        df1 = engineer_features(df1)\n",
    "\n",
    "        df2 = get_df('data/' + exchange_2 + '/' + pair[1])\n",
    "        df2 = engineer_features(df2)\n",
    "\n",
    "        df = merge_dfs(df1, df2)\n",
    "        \n",
    "        end_of_file_extension = '_' + pair[1].replace('_300', '')\n",
    "        df.to_csv('arbitrage_data/' + exchange_1 + end_of_file_extension)\n",
    "\n",
    "exchanges = ['bitfinex', 'coinbase_pro', 'hitbtc']\n",
    "create_all_arbitrage_dfs(exchanges)"
   ]
  }
 ],
 "metadata": {
  "kernelspec": {
   "display_name": "Python 3",
   "language": "python",
   "name": "python3"
  },
  "language_info": {
   "codemirror_mode": {
    "name": "ipython",
    "version": 3
   },
   "file_extension": ".py",
   "mimetype": "text/x-python",
   "name": "python",
   "nbconvert_exporter": "python",
   "pygments_lexer": "ipython3",
   "version": "3.7.3"
  }
 },
 "nbformat": 4,
 "nbformat_minor": 2
}
