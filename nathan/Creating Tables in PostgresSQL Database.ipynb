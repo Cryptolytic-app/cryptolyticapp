{
 "cells": [
  {
   "cell_type": "code",
   "execution_count": null,
   "metadata": {},
   "outputs": [],
   "source": [
    "POSTGRES_ADDRESS = 'localhost'\n",
    "POSTGRES_PORT = '5432'\n",
    "POSTGRES_USERNAME = 'postgres'\n",
    "POSTGRES_PASSWORD = 'INSERT_PASSWORD_HERE'\n",
    "POSTGRES_DBNAME = 'postgres'\n",
    "\n",
    "api_key = 'INSERT_PUBLIC_KEY_HERE'"
   ]
  },
  {
   "cell_type": "code",
   "execution_count": null,
   "metadata": {},
   "outputs": [],
   "source": [
    "bitfinex_pairs = ['bateth', 'batusd', 'bchbtc', 'bchusd', 'bchusdt', 'btcusd',\n",
    "                  'btcusdt', 'dashbtc', 'dashusd', 'eosbtc', 'eosusd',\n",
    "                  'eosusdt', 'etcbtc', 'etcusd', 'ethbtc', 'ethusd', 'gntusd',\n",
    "                  'ltcbtc', 'ltcusd', 'ltcusdt', 'manausd', 'repbtc',\n",
    "                  'repusd', 'xlmbtc', 'xlmusd', 'xrpbtc', 'xrpusd', 'zecbtc',\n",
    "                  'zecusd', 'zrxbtc', 'zrxusd']\n",
    "\n",
    "coinbase_pro_pairs = ['bateth', 'batusdc', 'bchbtc', 'bchusd', 'btcusd', \n",
    "                      'btcusdc', 'dashbtc', 'dashusd', 'eosbtc', 'eosusd',\n",
    "                      'etcbtc', 'etcusd', 'ethbtc', 'ethusd', 'ethusdc',\n",
    "                      'gntusdc', 'ltcbtc', 'ltcusd', 'manausdc', 'repbtc',\n",
    "                      'repusd', 'xlmbtc', 'xlmusd', 'xrpbtc', 'xrpusd',\n",
    "                      'zecbtc', 'zecusdc', 'zrxbtc', 'zrxusd']\n",
    "\n",
    "poloniex_pairs = ['bateth', 'batusdt', 'bchbtc', 'bchusdc', 'bchusdt', \n",
    "                  'btcusdc', 'btcusdt', 'dashbtc', 'dashusdc', 'dashusdt',\n",
    "                  'eosbtc', 'eosusdc', 'eosusdt', 'etcbtc', 'etcusdc', \n",
    "                  'etcusdt', 'ethbtc', 'ethusdc', 'ethusdt', 'gntusdt', \n",
    "                  'ltcbtc', 'ltcusdc', 'ltcusdt', 'manausdt', 'repbtc',\n",
    "                  'repusdt', 'xlmbtc', 'xlmusdc', 'xlmusdt', 'xrpbtc',\n",
    "                  'xrpusdc', 'xrpusdt', 'zecbtc', 'zecusdc', 'zecusdt', \n",
    "                  'zrxbtc', 'zrxusdt']\n",
    "\n",
    "exchanges = {'bitfinex': bitfinex_pairs,\n",
    "             'coinbase-pro': coinbase_pro_pairs,\n",
    "             'poloniex': poloniex_pairs}\n",
    "\n",
    "tables = {}\n",
    "\n",
    "for exchange in exchanges:\n",
    "    tables[exchange] = {pair: ('_'.join(exchange.split('-')) + '_' + pair)\n",
    "                        for pair in exchanges[exchange]}"
   ]
  },
  {
   "cell_type": "code",
   "execution_count": null,
   "metadata": {},
   "outputs": [],
   "source": [
    "import psycopg2 as ps\n",
    "\n",
    "conn = ps.connect(host=POSTGRES_ADDRESS,\n",
    "                  database=POSTGRES_DBNAME,\n",
    "                  user=POSTGRES_USERNAME,\n",
    "                  password=POSTGRES_PASSWORD,\n",
    "                  port=POSTGRES_PORT)\n",
    "    \n",
    "cur = conn.cursor()\n",
    "\n",
    "for exchange in tables:\n",
    "    for trading_pair in tables[exchange]:\n",
    "        table_name = tables[exchange][trading_pair]\n",
    "        cur.execute('''\n",
    "            CREATE TABLE {table_name}\n",
    "            (\n",
    "            time integer,\n",
    "            open float,\n",
    "            high float,\n",
    "            low float,\n",
    "            close float,\n",
    "            volume float\n",
    "            );\n",
    "        '''.format(table_name=table_name))\n",
    "\n",
    "conn.commit()\n",
    "print(\"Table created Successfully!\")\n",
    "conn.close()\n",
    "\n",
    "# to delete all...\n",
    "# DROP SCHEMA public CASCADE;\n",
    "# CREATE SCHEMA public;"
   ]
  }
 ],
 "metadata": {
  "kernelspec": {
   "display_name": "Python 3",
   "language": "python",
   "name": "python3"
  },
  "language_info": {
   "codemirror_mode": {
    "name": "ipython",
    "version": 3
   },
   "file_extension": ".py",
   "mimetype": "text/x-python",
   "name": "python",
   "nbconvert_exporter": "python",
   "pygments_lexer": "ipython3",
   "version": "3.7.3"
  }
 },
 "nbformat": 4,
 "nbformat_minor": 2
}
