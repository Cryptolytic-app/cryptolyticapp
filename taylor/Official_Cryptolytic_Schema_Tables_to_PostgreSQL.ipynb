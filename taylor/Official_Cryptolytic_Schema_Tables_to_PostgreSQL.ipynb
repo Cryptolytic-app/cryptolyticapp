{
  "nbformat": 4,
  "nbformat_minor": 0,
  "metadata": {
    "colab": {
      "name": "Official_Cryptolytic_Schema_Tables_to_PostgreSQL.ipynb",
      "provenance": [],
      "collapsed_sections": []
    },
    "kernelspec": {
      "name": "python3",
      "display_name": "Python 3"
    }
  },
  "cells": [
    {
      "cell_type": "code",
      "metadata": {
        "id": "YMooga9vzwql",
        "colab_type": "code",
        "outputId": "fc37779b-2fb6-40fe-dffb-d38208e26056",
        "colab": {
          "base_uri": "https://localhost:8080/",
          "height": 35
        }
      },
      "source": [
        "!pip install psycopg2"
      ],
      "execution_count": 20,
      "outputs": [
        {
          "output_type": "stream",
          "text": [
            "Requirement already satisfied: psycopg2 in /usr/local/lib/python3.6/dist-packages (2.7.6.1)\n"
          ],
          "name": "stdout"
        }
      ]
    },
    {
      "cell_type": "code",
      "metadata": {
        "id": "LdplcJQKz2nZ",
        "colab_type": "code",
        "colab": {
          "base_uri": "https://localhost:8080/",
          "height": 72
        },
        "outputId": "67ebbd0b-8882-44a0-820f-623de6ce042d"
      },
      "source": [
        "import psycopg2 as ps\n",
        "import requests\n",
        "import pandas as pd"
      ],
      "execution_count": 21,
      "outputs": [
        {
          "output_type": "stream",
          "text": [
            "/usr/local/lib/python3.6/dist-packages/psycopg2/__init__.py:144: UserWarning: The psycopg2 wheel package will be renamed from release 2.8; in order to keep installing from binary please use \"pip install psycopg2-binary\" instead. For details see: <http://initd.org/psycopg/docs/install.html#binary-install-from-pypi>.\n",
            "  \"\"\")\n"
          ],
          "name": "stderr"
        }
      ]
    },
    {
      "cell_type": "code",
      "metadata": {
        "id": "VoxqF-9NTGYb",
        "colab_type": "code",
        "colab": {}
      },
      "source": [
        "hitbtc_pairs = ['bch_btc', 'bch_usdt', 'btc_usdc', 'btc_usdt', 'dash_btc',\n",
        "                'dash_usdt', 'eos_btc', 'eos_usdt', 'etc_usdt', 'eth_btc', \n",
        "                'eth_usdc', 'eth_usdt', 'ltc_btc', 'ltc_usdt', 'xrp_btc', \n",
        "                'xrp_usdt', 'zec_usdt', 'zrx_usdt']\n",
        "bitfinex_pairs = ['bch_btc', 'bch_usd', 'bch_usdt', 'btc_usd', 'btc_usdt', \n",
        "                  'dash_btc', 'dash_usd', 'eos_btc', 'eos_usd', 'eos_usdt', \n",
        "                  'etc_usd', 'eth_btc', 'eth_usd', 'eth_usdt', 'ltc_btc', 'ltc_usd', \n",
        "                  'ltc_usdt', 'xrp_btc', 'xrp_usd', 'zec_usd', 'zrx_usd']\n",
        "coinbase_pro_pairs = ['bch_btc', 'bch_usd', 'btc_usd', 'btc_usdc', 'dash_btc',\n",
        "                      'dash_usd', 'eos_btc', 'eos_usd', 'etc_usd', 'eth_btc',\n",
        "                      'eth_usd', 'eth_usdc', 'ltc_btc', 'ltc_usd', 'xrp_btc',\n",
        "                      'xrp_usd', 'zec_usdc', 'zrx_usd']"
      ],
      "execution_count": 0,
      "outputs": []
    },
    {
      "cell_type": "code",
      "metadata": {
        "id": "0PV0E_mSWPKu",
        "colab_type": "code",
        "colab": {}
      },
      "source": [
        "# Change pairs format.\n",
        "\n",
        "#hitbtc_pairs = [pair.replace(\"_\", \"\") for pair in hitbtc_pairs]\n",
        "\n",
        "#bitfinex_pairs = [pair.replace(\"_\", \"\") for pair in bitfinex_pairs]\n",
        "\n",
        "#coinbase_pro_pairs = [pair.replace(\"_\", \"\") for pair in coinbase_pro_pairs]"
      ],
      "execution_count": 0,
      "outputs": []
    },
    {
      "cell_type": "code",
      "metadata": {
        "id": "PbHoEZr3TriQ",
        "colab_type": "code",
        "colab": {
          "base_uri": "https://localhost:8080/",
          "height": 141
        },
        "outputId": "e3a9ac24-8b11-4ed1-f75b-c5f1f6053693"
      },
      "source": [
        "hitbtc_table_list = ['hitbtc_' + pair for pair in hitbtc_pairs]\n",
        "\n",
        "bitfinex_table_list = ['bitfinex_' + pair for pair in bitfinex_pairs]\n",
        "\n",
        "coinbase_pro_table_list = ['coinbase_pro_' + pair for pair in coinbase_pro_pairs]\n",
        "\n",
        "print(hitbtc_table_list)\n",
        "print(len(hitbtc_table_list))\n",
        "\n",
        "print(bitfinex_table_list)\n",
        "print(len(bitfinex_table_list))\n",
        "\n",
        "print(coinbase_pro_table_list)\n",
        "print(len(coinbase_pro_table_list))"
      ],
      "execution_count": 23,
      "outputs": [
        {
          "output_type": "stream",
          "text": [
            "['hitbtc_bch_btc', 'hitbtc_bch_usdt', 'hitbtc_btc_usdc', 'hitbtc_btc_usdt', 'hitbtc_dash_btc', 'hitbtc_dash_usdt', 'hitbtc_eos_btc', 'hitbtc_eos_usdt', 'hitbtc_etc_usdt', 'hitbtc_eth_btc', 'hitbtc_eth_usdc', 'hitbtc_eth_usdt', 'hitbtc_ltc_btc', 'hitbtc_ltc_usdt', 'hitbtc_xrp_btc', 'hitbtc_xrp_usdt', 'hitbtc_zec_usdt', 'hitbtc_zrx_usdt']\n",
            "18\n",
            "['bitfinex_bch_btc', 'bitfinex_bch_usd', 'bitfinex_bch_usdt', 'bitfinex_btc_usd', 'bitfinex_btc_usdt', 'bitfinex_dash_btc', 'bitfinex_dash_usd', 'bitfinex_eos_btc', 'bitfinex_eos_usd', 'bitfinex_eos_usdt', 'bitfinex_etc_usd', 'bitfinex_eth_btc', 'bitfinex_eth_usd', 'bitfinex_eth_usdt', 'bitfinex_ltc_btc', 'bitfinex_ltc_usd', 'bitfinex_ltc_usdt', 'bitfinex_xrp_btc', 'bitfinex_xrp_usd', 'bitfinex_zec_usd', 'bitfinex_zrx_usd']\n",
            "21\n",
            "['coinbase_pro_bch_btc', 'coinbase_pro_bch_usd', 'coinbase_pro_btc_usd', 'coinbase_pro_btc_usdc', 'coinbase_pro_dash_btc', 'coinbase_pro_dash_usd', 'coinbase_pro_eos_btc', 'coinbase_pro_eos_usd', 'coinbase_pro_etc_usd', 'coinbase_pro_eth_btc', 'coinbase_pro_eth_usd', 'coinbase_pro_eth_usdc', 'coinbase_pro_ltc_btc', 'coinbase_pro_ltc_usd', 'coinbase_pro_xrp_btc', 'coinbase_pro_xrp_usd', 'coinbase_pro_zec_usdc', 'coinbase_pro_zrx_usd']\n",
            "18\n"
          ],
          "name": "stdout"
        }
      ]
    },
    {
      "cell_type": "code",
      "metadata": {
        "id": "EH7xceTlcP2n",
        "colab_type": "code",
        "colab": {
          "base_uri": "https://localhost:8080/",
          "height": 72
        },
        "outputId": "970bbb05-7862-4fb0-e47e-e98c12f4c384"
      },
      "source": [
        "table_list = hitbtc_table_list + bitfinex_table_list + coinbase_pro_table_list\n",
        "\n",
        "print(table_list)\n",
        "print(len(table_list))"
      ],
      "execution_count": 24,
      "outputs": [
        {
          "output_type": "stream",
          "text": [
            "['hitbtc_bch_btc', 'hitbtc_bch_usdt', 'hitbtc_btc_usdc', 'hitbtc_btc_usdt', 'hitbtc_dash_btc', 'hitbtc_dash_usdt', 'hitbtc_eos_btc', 'hitbtc_eos_usdt', 'hitbtc_etc_usdt', 'hitbtc_eth_btc', 'hitbtc_eth_usdc', 'hitbtc_eth_usdt', 'hitbtc_ltc_btc', 'hitbtc_ltc_usdt', 'hitbtc_xrp_btc', 'hitbtc_xrp_usdt', 'hitbtc_zec_usdt', 'hitbtc_zrx_usdt', 'bitfinex_bch_btc', 'bitfinex_bch_usd', 'bitfinex_bch_usdt', 'bitfinex_btc_usd', 'bitfinex_btc_usdt', 'bitfinex_dash_btc', 'bitfinex_dash_usd', 'bitfinex_eos_btc', 'bitfinex_eos_usd', 'bitfinex_eos_usdt', 'bitfinex_etc_usd', 'bitfinex_eth_btc', 'bitfinex_eth_usd', 'bitfinex_eth_usdt', 'bitfinex_ltc_btc', 'bitfinex_ltc_usd', 'bitfinex_ltc_usdt', 'bitfinex_xrp_btc', 'bitfinex_xrp_usd', 'bitfinex_zec_usd', 'bitfinex_zrx_usd', 'coinbase_pro_bch_btc', 'coinbase_pro_bch_usd', 'coinbase_pro_btc_usd', 'coinbase_pro_btc_usdc', 'coinbase_pro_dash_btc', 'coinbase_pro_dash_usd', 'coinbase_pro_eos_btc', 'coinbase_pro_eos_usd', 'coinbase_pro_etc_usd', 'coinbase_pro_eth_btc', 'coinbase_pro_eth_usd', 'coinbase_pro_eth_usdc', 'coinbase_pro_ltc_btc', 'coinbase_pro_ltc_usd', 'coinbase_pro_xrp_btc', 'coinbase_pro_xrp_usd', 'coinbase_pro_zec_usdc', 'coinbase_pro_zrx_usd']\n",
            "57\n"
          ],
          "name": "stdout"
        }
      ]
    },
    {
      "cell_type": "code",
      "metadata": {
        "id": "1tPAmQZGYfa1",
        "colab_type": "code",
        "colab": {}
      },
      "source": [
        "# Define credentials.\n",
        "\n",
        "credentials = {'POSTGRES_ADDRESS' : '#',\n",
        "               'POSTGRES_PORT' : '#',\n",
        "               'POSTGRES_USERNAME' : '#',\n",
        "               'POSTGRES_PASSWORD' : '#',\n",
        "               'POSTGRES_DBNAME' : '#',\n",
        "               'API_KEY' : '#'}\n"
      ],
      "execution_count": 0,
      "outputs": []
    },
    {
      "cell_type": "code",
      "metadata": {
        "id": "oKfl_8cgG_bb",
        "colab_type": "code",
        "outputId": "09a23d78-b6d0-4fc0-bd72-8b71b5d6451b",
        "colab": {
          "base_uri": "https://localhost:8080/",
          "height": 35
        }
      },
      "source": [
        "# Create 65 tables in database specific to fiveminute schema.\n",
        "\n",
        "# Create connection.\n",
        "  \n",
        "  conn = ps.connect(host=credentials['POSTGRES_ADDRESS'],\n",
        "                  port=credentials['POSTGRES_PORT'],\n",
        "                  user=credentials['POSTGRES_USERNAME'],\n",
        "                  password=credentials['POSTGRES_PASSWORD'],\n",
        "                  database=credentials['POSTGRES_DBNAME'])\n",
        "\n",
        "# Create a cursor.\n",
        "  \n",
        "  cur = conn.cursor()\n",
        "\n",
        "# Loop through table_list.\n",
        "\n",
        "  for table_name in table_list:\n",
        "    cur.execute('''\n",
        "    CREATE TABLE fiveminute.{table_name}\n",
        "     (\n",
        "     closing_time integer,\n",
        "     open float,\n",
        "     high float,\n",
        "     low float,\n",
        "     close float,\n",
        "     base_volume float\n",
        "     );'''.format(table_name=table_name))\n",
        "\n",
        "# Commit and close. Verify that table was created successfully.\n",
        "\n",
        "  conn.commit()\n",
        "\n",
        "  print(\"Tables created successfully!\")\n",
        "\n",
        "  conn.close()"
      ],
      "execution_count": 28,
      "outputs": [
        {
          "output_type": "stream",
          "text": [
            "Tables created successfully!\n"
          ],
          "name": "stdout"
        }
      ]
    },
    {
      "cell_type": "code",
      "metadata": {
        "id": "vjiNBVabSOAL",
        "colab_type": "code",
        "outputId": "ae32e5fa-373d-4e67-8168-2b98f732c331",
        "colab": {
          "base_uri": "https://localhost:8080/",
          "height": 35
        }
      },
      "source": [
        "# Create 65 tables in database specific to onehour schema.\n",
        "\n",
        "# Create connection.\n",
        "  \n",
        "  conn = ps.connect(host=credentials['POSTGRES_ADDRESS'],\n",
        "                  port=credentials['POSTGRES_PORT'],\n",
        "                  user=credentials['POSTGRES_USERNAME'],\n",
        "                  password=credentials['POSTGRES_PASSWORD'],\n",
        "                  database=credentials['POSTGRES_DBNAME'])\n",
        "\n",
        "# Create a cursor.\n",
        "  \n",
        "  cur = conn.cursor()\n",
        "\n",
        "# Loop through table_list.\n",
        "\n",
        "  for table_name in table_list:\n",
        "    cur.execute('''\n",
        "    CREATE TABLE onehour.{table_name}\n",
        "     (\n",
        "     closing_time integer,\n",
        "     open float,\n",
        "     high float,\n",
        "     low float,\n",
        "     close float,\n",
        "     base_volume float\n",
        "     );'''.format(table_name=table_name))\n",
        "\n",
        "# Commit and close. Verify that table was created successfully.\n",
        "\n",
        "  conn.commit()\n",
        "\n",
        "  print(\"Tables created successfully!\")\n",
        "\n",
        "  conn.close()"
      ],
      "execution_count": 29,
      "outputs": [
        {
          "output_type": "stream",
          "text": [
            "Tables created successfully!\n"
          ],
          "name": "stdout"
        }
      ]
    }
  ]
}