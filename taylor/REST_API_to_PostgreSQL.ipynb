{
  "nbformat": 4,
  "nbformat_minor": 0,
  "metadata": {
    "colab": {
      "name": "REST_API to PostgreSQL.ipynb",
      "provenance": [],
      "collapsed_sections": []
    },
    "kernelspec": {
      "name": "python3",
      "display_name": "Python 3"
    }
  },
  "cells": [
    {
      "cell_type": "code",
      "metadata": {
        "id": "YMooga9vzwql",
        "colab_type": "code",
        "outputId": "29c372b0-9505-4d50-ae7b-3310b40322c9",
        "colab": {
          "base_uri": "https://localhost:8080/",
          "height": 35
        }
      },
      "source": [
        "!pip install psycopg2"
      ],
      "execution_count": 0,
      "outputs": [
        {
          "output_type": "stream",
          "text": [
            "Requirement already satisfied: psycopg2 in /usr/local/lib/python3.6/dist-packages (2.7.6.1)\n"
          ],
          "name": "stdout"
        }
      ]
    },
    {
      "cell_type": "code",
      "metadata": {
        "id": "LdplcJQKz2nZ",
        "colab_type": "code",
        "colab": {}
      },
      "source": [
        "import psycopg2 as ps\n",
        "import requests\n",
        "import pandas as pd"
      ],
      "execution_count": 0,
      "outputs": []
    },
    {
      "cell_type": "code",
      "metadata": {
        "id": "yQ-zRQANz5us",
        "colab_type": "code",
        "colab": {}
      },
      "source": [
        "REST_API = 'https://api.pro.coinbase.com/products/ETH-BTC/ticker'\n",
        "r = requests.get(REST_API)\n",
        "data = r.json()"
      ],
      "execution_count": 0,
      "outputs": []
    },
    {
      "cell_type": "code",
      "metadata": {
        "id": "6ImEBo_Dz7iy",
        "colab_type": "code",
        "outputId": "acd6d31b-18c3-4c11-fcd1-8ceb82f85432",
        "colab": {
          "base_uri": "https://localhost:8080/",
          "height": 79
        }
      },
      "source": [
        "df = pd.DataFrame(data, index=[0])\n",
        "df.head()"
      ],
      "execution_count": 0,
      "outputs": [
        {
          "output_type": "execute_result",
          "data": {
            "text/html": [
              "<div>\n",
              "<style scoped>\n",
              "    .dataframe tbody tr th:only-of-type {\n",
              "        vertical-align: middle;\n",
              "    }\n",
              "\n",
              "    .dataframe tbody tr th {\n",
              "        vertical-align: top;\n",
              "    }\n",
              "\n",
              "    .dataframe thead th {\n",
              "        text-align: right;\n",
              "    }\n",
              "</style>\n",
              "<table border=\"1\" class=\"dataframe\">\n",
              "  <thead>\n",
              "    <tr style=\"text-align: right;\">\n",
              "      <th></th>\n",
              "      <th>trade_id</th>\n",
              "      <th>price</th>\n",
              "      <th>size</th>\n",
              "      <th>time</th>\n",
              "      <th>bid</th>\n",
              "      <th>ask</th>\n",
              "      <th>volume</th>\n",
              "    </tr>\n",
              "  </thead>\n",
              "  <tbody>\n",
              "    <tr>\n",
              "      <th>0</th>\n",
              "      <td>8433833</td>\n",
              "      <td>0.02199</td>\n",
              "      <td>1.47195622</td>\n",
              "      <td>2019-10-14T03:26:43.833Z</td>\n",
              "      <td>0.02199</td>\n",
              "      <td>0.02201</td>\n",
              "      <td>8578.16380674</td>\n",
              "    </tr>\n",
              "  </tbody>\n",
              "</table>\n",
              "</div>"
            ],
            "text/plain": [
              "   trade_id    price        size  ...      bid      ask         volume\n",
              "0   8433833  0.02199  1.47195622  ...  0.02199  0.02201  8578.16380674\n",
              "\n",
              "[1 rows x 7 columns]"
            ]
          },
          "metadata": {
            "tags": []
          },
          "execution_count": 114
        }
      ]
    },
    {
      "cell_type": "code",
      "metadata": {
        "id": "VRkF11t51nX9",
        "colab_type": "code",
        "colab": {}
      },
      "source": [
        "# Store data function.\n",
        "\n",
        "# Be sure to fill in db with appropriate credentials.\n",
        "\n",
        "def store_data(trade_id, price, size, time, bid, ask, volume):\n",
        "  db = ps.connect(database=\"fill_in\", user=\"fill_in\", password=\"fill_in\", host=\"fill_in\", port=\"fill_in\")    \n",
        "  cursor = db.cursor()\n",
        "  # crypto_data = name of schema and eth_btc_coinbase = name of table within crypto_data database.\n",
        "  insert_query = \"INSERT INTO crypto_data.eth_btc_coinbase (trade_id, price, size, time, bid, ask, volume) VALUES (%s, %s, %s, %s, %s, %s, %s)\"  \n",
        "  cursor.execute(insert_query, (trade_id, price, size, time, bid, ask, volume))\n",
        "  db.commit()\n",
        "  cursor.close()\n",
        "  db.close()\n",
        "  return"
      ],
      "execution_count": 0,
      "outputs": []
    },
    {
      "cell_type": "code",
      "metadata": {
        "id": "r6Mzvjrv2j7_",
        "colab_type": "code",
        "colab": {}
      },
      "source": [
        "trade_id = data['trade_id']\n",
        "price = data['price']\n",
        "size = data['size']\n",
        "time = data['time']\n",
        "bid = data['bid']\n",
        "ask = data['ask']\n",
        "volume = data['volume']\n",
        "  \n",
        "store_data(trade_id, price, size, time, bid, ask, volume)"
      ],
      "execution_count": 0,
      "outputs": []
    }
  ]
}